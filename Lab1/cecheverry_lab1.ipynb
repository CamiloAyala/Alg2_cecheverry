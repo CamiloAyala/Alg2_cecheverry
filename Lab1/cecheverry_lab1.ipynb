{
  "nbformat": 4,
  "nbformat_minor": 0,
  "metadata": {
    "colab": {
      "name": "cecheverry_lab1.ipynb",
      "provenance": [],
      "collapsed_sections": []
    },
    "kernelspec": {
      "display_name": "Python 3",
      "language": "python",
      "name": "python3"
    },
    "language_info": {
      "codemirror_mode": {
        "name": "ipython",
        "version": 3
      },
      "file_extension": ".py",
      "mimetype": "text/x-python",
      "name": "python",
      "nbconvert_exporter": "python",
      "pygments_lexer": "ipython3",
      "version": "3.6.4"
    }
  },
  "cells": [
    {
      "cell_type": "markdown",
      "metadata": {
        "id": "eQzBbvyKQymx"
      },
      "source": [
        "<div align=\"center\">\n",
        "<img style=\"display: block; margin: auto;\" alt=\"photo\" src=\"https://cdn.quantconnect.com/web/i/icon.png\">\n",
        "\n",
        "Quantconnect\n",
        "\n",
        "Introduction to Financial Python\n",
        "</div>\n",
        "\n",
        "# 01 Data Types and Data Structures\n",
        "\n",
        "# Introduction\n",
        "\n",
        "This tutorial provides a basic introduction to the Python programming language. If you are new to Python, you should run the code snippets while reading this tutorial. If you are an advanced Python user, please feel free to skip this chapter.\n",
        "\n",
        "# Basic Variable Types\n",
        "The basic types of variables in Python are: strings, integers, floating point numbers and booleans.\n",
        "\n",
        "Strings in python are identified as a contiguous set of characters represented in either single quotes (' ') or double quotes (\" \").\n"
      ]
    },
    {
      "cell_type": "code",
      "metadata": {
        "colab": {
          "base_uri": "https://localhost:8080/"
        },
        "id": "N5t-UrcfOqid",
        "outputId": "84a33c21-31d6-447e-d282-99c9f8f725db"
      },
      "source": [
        "my_string1 = 'Aprendiendo' # Se le asigna un valor de tipo string a las variables my_string1 y my_string2\n",
        "my_string2 = \"Python\"\n",
        "print(my_string1 + ' ' + my_string2)"
      ],
      "execution_count": null,
      "outputs": [
        {
          "output_type": "stream",
          "name": "stdout",
          "text": [
            "Aprendiendo Python\n"
          ]
        }
      ]
    },
    {
      "cell_type": "markdown",
      "metadata": {
        "id": "bXHnxZyHSd1M"
      },
      "source": [
        "An integer is a round number with no values after the decimal point."
      ]
    },
    {
      "cell_type": "code",
      "metadata": {
        "colab": {
          "base_uri": "https://localhost:8080/"
        },
        "id": "pNjuz3toOqif",
        "outputId": "9bd1c904-368d-4911-824d-8c54dcf21ecc"
      },
      "source": [
        "my_int = 1035 # Se le asigna un valor de tipo entero a una variable\n",
        "print(my_int)\n",
        "print(type(my_int)) # Muestra que tipo de dato está guardando la variable my_int"
      ],
      "execution_count": null,
      "outputs": [
        {
          "output_type": "stream",
          "name": "stdout",
          "text": [
            "1035\n",
            "<class 'int'>\n"
          ]
        }
      ]
    },
    {
      "cell_type": "markdown",
      "metadata": {
        "id": "_1ZanWrYSnzF"
      },
      "source": [
        "The built-in function int() can convert a string into an integer."
      ]
    },
    {
      "cell_type": "code",
      "metadata": {
        "colab": {
          "base_uri": "https://localhost:8080/"
        },
        "id": "zPwGb20FOqif",
        "outputId": "027f93fa-748e-4b40-f3d1-12342d036ae2"
      },
      "source": [
        "my_string = \"1035\" # Un número guardado en forma de string\n",
        "print(type(my_string)) # Muestra el tipo de dato que está guardando la variable my_string\n",
        "my_int = int(my_string) # Convierte un string a entero\n",
        "print(type(my_int)) # Muestra el tipo de dato que está guardando la variable my_int después de convertir el valor que guardaba my_string"
      ],
      "execution_count": null,
      "outputs": [
        {
          "output_type": "stream",
          "name": "stdout",
          "text": [
            "<class 'str'>\n",
            "<class 'int'>\n"
          ]
        }
      ]
    },
    {
      "cell_type": "markdown",
      "metadata": {
        "id": "WqMDPDTHSrE9"
      },
      "source": [
        "A floating point number, or a float, is a real number in mathematics. In Python we need to include a value after a decimal point to define it as a float"
      ]
    },
    {
      "cell_type": "code",
      "metadata": {
        "colab": {
          "base_uri": "https://localhost:8080/"
        },
        "id": "otCzKKW9Oqig",
        "outputId": "83d28c96-cc1d-48b3-db94-128e89a422dc"
      },
      "source": [
        "my_string = \"1123.4\" # Número decimal guardado como string\n",
        "my_float = float(my_string) # Convierte el string anterior a un string\n",
        "print(type(my_float)) # Muestra el tipo de dato que guarda my_float\n",
        "print(my_float)"
      ],
      "execution_count": null,
      "outputs": [
        {
          "output_type": "stream",
          "name": "stdout",
          "text": [
            "<class 'float'>\n",
            "1123.4\n"
          ]
        }
      ]
    },
    {
      "cell_type": "markdown",
      "metadata": {
        "id": "2iuyv8Q7StTJ"
      },
      "source": [
        "As you can see above, if we don't include a decimal value, the variable would be defined as an integer. The built-in function float() can convert a string or an integer into a float."
      ]
    },
    {
      "cell_type": "code",
      "metadata": {
        "colab": {
          "base_uri": "https://localhost:8080/"
        },
        "id": "wwLw5VthOqig",
        "outputId": "a3c13706-c698-408e-fe78-624bfbd8f0fa"
      },
      "source": [
        "my_bool = True # Se le asigna un valor de tipo booleano False o True\n",
        "print(my_bool)\n",
        "print(type(my_bool))"
      ],
      "execution_count": null,
      "outputs": [
        {
          "output_type": "stream",
          "name": "stdout",
          "text": [
            "True\n",
            "<class 'bool'>\n"
          ]
        }
      ]
    },
    {
      "cell_type": "markdown",
      "metadata": {
        "id": "bnGMwH21Szr_"
      },
      "source": [
        "A boolean, or bool, is a binary variable. Its value can only be True or False. It is useful when we do some logic operations, which would be covered in our next chapter."
      ]
    },
    {
      "cell_type": "code",
      "metadata": {
        "colab": {
          "base_uri": "https://localhost:8080/"
        },
        "id": "DMa6pDl5Oqig",
        "outputId": "3617f315-70ff-4bcb-a2aa-17711a8a2003"
      },
      "source": [
        "# Operaciones aritméticas dentro del propio print\n",
        "print(\"Addition \", 32+90) \n",
        "print(\"Subtraction \", 30-43)\n",
        "print(\"Multiplication \", 6*9)\n",
        "print(\"Division \", 55/9)\n",
        "print('exponent', 4**2) # Doble signo ** indica un exponente"
      ],
      "execution_count": null,
      "outputs": [
        {
          "output_type": "stream",
          "name": "stdout",
          "text": [
            "Addition  122\n",
            "Subtraction  -13\n",
            "Multiplication  54\n",
            "Division  6.111111111111111\n",
            "exponent 16\n"
          ]
        }
      ]
    },
    {
      "cell_type": "markdown",
      "metadata": {
        "id": "1Xc9G9_sS2ju"
      },
      "source": [
        "# Basic Math Operations\n",
        "\n",
        "The basic math operators in python are demonstrated below:"
      ]
    },
    {
      "cell_type": "code",
      "metadata": {
        "colab": {
          "base_uri": "https://localhost:8080/"
        },
        "id": "KE9gUryAOqig",
        "outputId": "2a3ca407-9d50-4e2a-9e90-84c148553ef5"
      },
      "source": [
        "print(3/3)\n",
        "print(5/3)"
      ],
      "execution_count": null,
      "outputs": [
        {
          "output_type": "stream",
          "name": "stdout",
          "text": [
            "1.0\n",
            "1.6666666666666667\n"
          ]
        }
      ]
    },
    {
      "cell_type": "markdown",
      "metadata": {
        "id": "AN5Oa3DoS_Nf"
      },
      "source": [
        "# Data Collections\n",
        "\n",
        "## List\n",
        "A list is an ordered collection of values. A list is mutable, which means you can change a list's value without changing the list itself. Creating a list is simply putting different comma-separated values between square brackets."
      ]
    },
    {
      "cell_type": "code",
      "metadata": {
        "colab": {
          "base_uri": "https://localhost:8080/"
        },
        "id": "-tQdNqCvOqig",
        "outputId": "1be2a528-b543-4c17-cb2e-624031a0f570"
      },
      "source": [
        "my_list = ['Lista', True, 32, 2.457, [False, 20]] # Le asignamos valores a la lista, incluso una lista dentro de otra\n",
        "print(my_list)"
      ],
      "execution_count": null,
      "outputs": [
        {
          "output_type": "stream",
          "name": "stdout",
          "text": [
            "['Lista', True, 32, 2.457, [False, 20]]\n"
          ]
        }
      ]
    },
    {
      "cell_type": "markdown",
      "metadata": {
        "id": "1O0TsgZCTHrM"
      },
      "source": [
        "The values in a list are called \"elements\". We can access list elements by indexing. Python index starts from 0. So if you have a list of length n, the index of the first element will be 0, and that of the last element will be n − 1. By the way, the length of a list can be obtained by the built-in function len()."
      ]
    },
    {
      "cell_type": "code",
      "metadata": {
        "colab": {
          "base_uri": "https://localhost:8080/"
        },
        "id": "QhuVhRR5Oqih",
        "outputId": "dad98f7c-504d-4c38-f7f8-a5f143914366"
      },
      "source": [
        "my_list = ['Lista', True, 32, 2.457, [False, 20]]\n",
        "print(len(my_list)) # Muestra la cantidad de elementos de la lista\n",
        "print(my_list[0]) # Miestra el primer elemento de la lista\n",
        "print(my_list[len(my_list) -1]) # Muestra el último elemento de la lista "
      ],
      "execution_count": null,
      "outputs": [
        {
          "output_type": "stream",
          "name": "stdout",
          "text": [
            "5\n",
            "Lista\n",
            "[False, 20]\n"
          ]
        }
      ]
    },
    {
      "cell_type": "markdown",
      "metadata": {
        "id": "jgSZy1VGTKSc"
      },
      "source": [
        "You can also change the elements in the list by accessing an index and assigning a new value."
      ]
    },
    {
      "cell_type": "code",
      "metadata": {
        "colab": {
          "base_uri": "https://localhost:8080/"
        },
        "id": "NQBNLjAvOqih",
        "outputId": "b96da54d-39dc-4edf-fc8b-c5aa18333366"
      },
      "source": [
        "my_list = ['Lista', True, 32, 2.457, [False, 20]]\n",
        "my_list[2] = 'go' # Cambia el valor del elemento que está en la posición 2 de la lista\n",
        "print(my_list)"
      ],
      "execution_count": null,
      "outputs": [
        {
          "output_type": "stream",
          "name": "stdout",
          "text": [
            "['Lista', True, 'go', 2.457, [False, 20]]\n"
          ]
        }
      ]
    },
    {
      "cell_type": "markdown",
      "metadata": {
        "id": "EQPs5ojoTVrk"
      },
      "source": [
        "A list can also be sliced with a colon:"
      ]
    },
    {
      "cell_type": "code",
      "metadata": {
        "colab": {
          "base_uri": "https://localhost:8080/"
        },
        "id": "keNX2RbtOqii",
        "outputId": "586da732-79e5-4ee1-ed59-6fc13e4fb283"
      },
      "source": [
        "my_list = ['Lista', True, 32, 2.457, [False, 20]]\n",
        "print(my_list[0:4]) # [n1:n2] Muestra los elementos desde la posición n1 (incluyéndolo) hasta el elemento anterior a n2 "
      ],
      "execution_count": null,
      "outputs": [
        {
          "output_type": "stream",
          "name": "stdout",
          "text": [
            "['Lista', True, 32, 2.457]\n"
          ]
        }
      ]
    },
    {
      "cell_type": "markdown",
      "metadata": {
        "id": "AZqQd0K8TYul"
      },
      "source": [
        "The slice starts from the first element indicated, but excludes the last element indicated. Here we select all elements starting from index 1, which refers to the second element:"
      ]
    },
    {
      "cell_type": "code",
      "metadata": {
        "colab": {
          "base_uri": "https://localhost:8080/"
        },
        "id": "0-76sLfkOqii",
        "outputId": "c763fb87-30d8-47d1-e390-d9bb40395d44"
      },
      "source": [
        "print(my_list[2:]) # [n1:] Muestra todos los elementos de la lista a partir de la posición n1"
      ],
      "execution_count": null,
      "outputs": [
        {
          "output_type": "stream",
          "name": "stdout",
          "text": [
            "[32, 2.457, [False, 20]]\n"
          ]
        }
      ]
    },
    {
      "cell_type": "markdown",
      "metadata": {
        "id": "XBqvhUdZVKWs"
      },
      "source": [
        "And all elements up to but excluding index 3:"
      ]
    },
    {
      "cell_type": "code",
      "metadata": {
        "colab": {
          "base_uri": "https://localhost:8080/"
        },
        "id": "5NWr75L9Oqii",
        "outputId": "eb5f32e9-a992-47de-93b8-1da3fb8ff156"
      },
      "source": [
        "print(my_list[:4]) # [:n2] Muestra todos los elementos anteriores a la posición n2"
      ],
      "execution_count": null,
      "outputs": [
        {
          "output_type": "stream",
          "name": "stdout",
          "text": [
            "['Lista', True, 32, 2.457]\n"
          ]
        }
      ]
    },
    {
      "cell_type": "markdown",
      "metadata": {
        "id": "eAFmM6bkTZz9"
      },
      "source": [
        "If you wish to add or remove an element from a list, you can use the append() and remove() methods for lists as follows:"
      ]
    },
    {
      "cell_type": "code",
      "metadata": {
        "colab": {
          "base_uri": "https://localhost:8080/"
        },
        "id": "pHmgTPElTo19",
        "outputId": "4677ada5-3967-46b1-8125-6b5e1c0ef274"
      },
      "source": [
        "my_list = ['Elementos', 'Base']\n",
        "my_list.append('Añadido') # Añade un elemento a la lista\n",
        "print(my_list)"
      ],
      "execution_count": null,
      "outputs": [
        {
          "output_type": "stream",
          "name": "stdout",
          "text": [
            "['Elementos', 'Base', 'Añadido']\n"
          ]
        }
      ]
    },
    {
      "cell_type": "code",
      "metadata": {
        "colab": {
          "base_uri": "https://localhost:8080/"
        },
        "id": "4C4U1Yf0Tr8l",
        "outputId": "8ea63196-5d62-4fe4-f3e9-fa7ac8a7cd3d"
      },
      "source": [
        "my_list.remove('Base') # Elimina el elemento indicado de la lista\n",
        "print(my_list)"
      ],
      "execution_count": null,
      "outputs": [
        {
          "output_type": "stream",
          "name": "stdout",
          "text": [
            "['Elementos', 'Añadido']\n"
          ]
        }
      ]
    },
    {
      "cell_type": "markdown",
      "metadata": {
        "id": "11W1gG-cVmOU"
      },
      "source": [
        "When there are repeated instances of \"Hello\", the first one is removed.\n",
        "\n",
        "## Tuple\n",
        "A tuple is a data structure type similar to a list. The difference is that a tuple is immutable, which means you can't change the elements in it once it's defined. We create a tuple by putting comma-separated values between parentheses."
      ]
    },
    {
      "cell_type": "code",
      "metadata": {
        "collapsed": true,
        "id": "vPmn6BAaOqii"
      },
      "source": [
        "my_tuple = ('Esto','es','una', 'tupla', 1106) # Le asignamos valores a la tupla"
      ],
      "execution_count": null,
      "outputs": []
    },
    {
      "cell_type": "markdown",
      "metadata": {
        "id": "zMIme4dDV0Wz"
      },
      "source": [
        "Just like a list, a tuple can be sliced by using index."
      ]
    },
    {
      "cell_type": "code",
      "metadata": {
        "colab": {
          "base_uri": "https://localhost:8080/"
        },
        "id": "8P-ddO0sOqii",
        "outputId": "f6eb4707-cd21-49a5-86a3-8cf921ae4c63"
      },
      "source": [
        "my_tuple = ('Esto','es','una', 'tupla', 1106) \n",
        "print(my_tuple[2:]) # Al igual que en la lista, muestra los elementos a partir de la posición indicada"
      ],
      "execution_count": null,
      "outputs": [
        {
          "output_type": "stream",
          "name": "stdout",
          "text": [
            "('una', 'tupla', 1106)\n"
          ]
        }
      ]
    },
    {
      "cell_type": "markdown",
      "metadata": {
        "id": "l2JqbusAV1Y2"
      },
      "source": [
        "## Set\n",
        "A set is an **unordered**  collection with **no duplicate** elements. The built-in function **set()** can be used to create sets."
      ]
    },
    {
      "cell_type": "code",
      "metadata": {
        "colab": {
          "base_uri": "https://localhost:8080/"
        },
        "id": "Plau8r-UOqij",
        "outputId": "c66594e8-4967-4e8e-caf5-9992c03c2d96"
      },
      "source": [
        "stock_list = ['AAPL','GOOG','IBM','AAPL','IBM','FB','F','GOOG'] # Se le asignan valores a la lista\n",
        "stock_set = set(stock_list) # Convertimos dicha lista en un conjunto\n",
        "print(stock_set)"
      ],
      "execution_count": null,
      "outputs": [
        {
          "output_type": "stream",
          "name": "stdout",
          "text": [
            "{'FB', 'GOOG', 'AAPL', 'IBM', 'F'}\n"
          ]
        }
      ]
    },
    {
      "cell_type": "markdown",
      "metadata": {
        "id": "Jyb4GGIoWIHk"
      },
      "source": [
        "Set is an easy way to remove duplicate elements from a list.\n",
        "\n",
        "##Dictionary\n",
        "A dictionary is one of the most important data structures in Python. Unlike sequences which are indexed by integers, dictionaries are indexed by keys which can be either strings or floats.\n",
        "\n",
        "A dictionary is an **unordered** collection of key : value pairs, with the requirement that the keys are unique. We create a dictionary by placing a comma-separated list of key : value pairs within the braces."
      ]
    },
    {
      "cell_type": "code",
      "metadata": {
        "collapsed": true,
        "id": "36mTe5BaOqij"
      },
      "source": [
        "my_dic = {1:'APPLE', 2:'Hola', 'Llave':'x'} # Le asignamos valores al diccionario"
      ],
      "execution_count": null,
      "outputs": []
    },
    {
      "cell_type": "code",
      "metadata": {
        "colab": {
          "base_uri": "https://localhost:8080/"
        },
        "id": "KUfdVf43Oqij",
        "outputId": "a53c6e9d-c07b-4fd1-ee48-42e880d9d090"
      },
      "source": [
        "print(my_dic[2]) # Muestra el valor que contiene la llave indicada"
      ],
      "execution_count": null,
      "outputs": [
        {
          "output_type": "stream",
          "name": "stdout",
          "text": [
            "Hola\n"
          ]
        }
      ]
    },
    {
      "cell_type": "markdown",
      "metadata": {
        "id": "gSicoNqDWP4c"
      },
      "source": [
        "After defining a dictionary, we can access any value by indicating its key in brackets."
      ]
    },
    {
      "cell_type": "code",
      "metadata": {
        "colab": {
          "base_uri": "https://localhost:8080/"
        },
        "id": "IrTZdq9FOqij",
        "outputId": "0cb56e0a-2e1a-4541-f983-8276e36104f6"
      },
      "source": [
        "my_dic['Llave'] = 'Nuevo valor' # Se cambia el valor que contiene la llave indicada\n",
        "print(my_dic['Llave'])"
      ],
      "execution_count": null,
      "outputs": [
        {
          "output_type": "stream",
          "name": "stdout",
          "text": [
            "Nuevo valor\n"
          ]
        }
      ]
    },
    {
      "cell_type": "markdown",
      "metadata": {
        "id": "M9sDsTEMWQvc"
      },
      "source": [
        "We can also change the value associated with a specified key:"
      ]
    },
    {
      "cell_type": "code",
      "metadata": {
        "colab": {
          "base_uri": "https://localhost:8080/"
        },
        "id": "lupRHf1_Oqij",
        "outputId": "9efb01dd-c03c-4cf1-d849-4aedeaac3128"
      },
      "source": [
        "print(my_dic.keys()) # Muestra todas la llaves que hay en el diccionario"
      ],
      "execution_count": null,
      "outputs": [
        {
          "output_type": "stream",
          "name": "stdout",
          "text": [
            "dict_keys([1, 2, 'Llave'])\n"
          ]
        }
      ]
    },
    {
      "cell_type": "markdown",
      "metadata": {
        "id": "VPuDinlwWS9D"
      },
      "source": [
        "The built-in method of the dictionary object dict.keys() returns a list of all the keys used in the dictionary."
      ]
    },
    {
      "cell_type": "markdown",
      "metadata": {
        "id": "kSGzgNb2Womz"
      },
      "source": [
        "# Common String Operations\n",
        "A string is an immutable sequence of characters. It can be sliced by index just like a tuple:"
      ]
    },
    {
      "cell_type": "code",
      "metadata": {
        "colab": {
          "base_uri": "https://localhost:8080/"
        },
        "id": "xPojDnm9Oqik",
        "outputId": "5c43b3b3-4ba2-4721-b912-fcba0226f727"
      },
      "source": [
        "my_str = 'Hola mundo'\n",
        "print(my_str[4:]) # Al tratar a un string como una lista de carácteres, podemos mostrar los caráteres de una cadena a partir de cierto índice"
      ],
      "execution_count": null,
      "outputs": [
        {
          "output_type": "stream",
          "name": "stdout",
          "text": [
            " mundo\n"
          ]
        }
      ]
    },
    {
      "cell_type": "markdown",
      "metadata": {
        "id": "wuJYy7tvWtM7"
      },
      "source": [
        "There are many methods associated with strings. We can use string.count() to count the occurrences of a character in a string, use string.find() to return the index of a specific character, and use string.replace() to replace characters"
      ]
    },
    {
      "cell_type": "code",
      "metadata": {
        "colab": {
          "base_uri": "https://localhost:8080/"
        },
        "id": "u9deZq1SOqik",
        "outputId": "02de5d60-4afc-4bd4-ddd7-c12eca8948b7"
      },
      "source": [
        "print('Counting the number of e appears in this sentence'.count('en')) # Cuenta las apariciones del carácter o string en cuestión en la frase\n",
        "print('The first time e appears in this sentence'.find('i')) # Muestra el primer índice donde aparece el carácter o string en cuestión\n",
        "print('all the a in this sentence now becomes e'.replace('a','e')) # Muestra la frase al reemplazar las apariciones de un caŕacter por otro"
      ],
      "execution_count": null,
      "outputs": [
        {
          "output_type": "stream",
          "name": "stdout",
          "text": [
            "2\n",
            "5\n",
            "ell the e in this sentence now becomes e\n"
          ]
        }
      ]
    },
    {
      "cell_type": "markdown",
      "metadata": {
        "id": "sJPn3rkvWwHN"
      },
      "source": [
        "The most commonly used method for strings is string.split(). This method will split the string by the indicated character and return a list:"
      ]
    },
    {
      "cell_type": "code",
      "metadata": {
        "colab": {
          "base_uri": "https://localhost:8080/"
        },
        "id": "hbIaFLFHOqik",
        "outputId": "4437f7dd-07b1-44e6-dd7f-fbf110243185"
      },
      "source": [
        "Time = '2021-10-30 11:45:00'\n",
        "splited_list = Time.split(' ') # Divide el string a partir del carácter especificado\n",
        "date = splited_list[0] # Primera mitad de la cadena partida\n",
        "time = splited_list[1] # Segunda mitad de la cadena partida\n",
        "print(date, time)\n",
        "hour = time.split(':')[0] # Divide la hora en las apariciones de ':' y guarda el primer 'pedazo'\n",
        "print(hour)"
      ],
      "execution_count": null,
      "outputs": [
        {
          "output_type": "stream",
          "name": "stdout",
          "text": [
            "2021-10-30 11:45:00\n",
            "11\n"
          ]
        }
      ]
    },
    {
      "cell_type": "markdown",
      "metadata": {
        "id": "9cJQGk96WyVc"
      },
      "source": [
        "We can replace parts of a string by our variable. This is called string formatting."
      ]
    },
    {
      "cell_type": "code",
      "metadata": {
        "colab": {
          "base_uri": "https://localhost:8080/"
        },
        "id": "-E_rIvv6Oqik",
        "outputId": "1285ce05-3f70-4bdb-d947-89555ebd8f3c"
      },
      "source": [
        "my_time = 'Hour: {}, Minute:{}'.format('11','45') # Permite introducir datos en zonas especificas de una cadena\n",
        "print(my_time)"
      ],
      "execution_count": null,
      "outputs": [
        {
          "output_type": "stream",
          "name": "stdout",
          "text": [
            "Hour: 11, Minute:45\n"
          ]
        }
      ]
    },
    {
      "cell_type": "markdown",
      "metadata": {
        "id": "1_NbVldpWzAs"
      },
      "source": [
        "Another way to format a string is to use the % symbol."
      ]
    },
    {
      "cell_type": "code",
      "metadata": {
        "colab": {
          "base_uri": "https://localhost:8080/"
        },
        "id": "4rZ4rkD2Oqik",
        "outputId": "70f97733-cdc9-4e10-f404-f7fb3962bf94"
      },
      "source": [
        "print('the pi number is %f'%3.141592)\n",
        "print('%s %s'%('Salida','Formateada'))"
      ],
      "execution_count": null,
      "outputs": [
        {
          "output_type": "stream",
          "name": "stdout",
          "text": [
            "the pi number is 3.141592\n",
            "Salida Formateada\n"
          ]
        }
      ]
    },
    {
      "cell_type": "markdown",
      "metadata": {
        "id": "v_5cocrDW3MN"
      },
      "source": [
        "# Summary\n",
        "\n",
        "Weave seen the basic data types and data structures in Python. It's important to keep practicing to become familiar with these data structures. In the next tutorial, we will cover for and while loops and logical operations in Python."
      ]
    },
    {
      "cell_type": "markdown",
      "metadata": {
        "id": "QL6dNxwCXNEt"
      },
      "source": [
        "<div align=\"center\">\n",
        "<img style=\"display: block; margin: auto;\" alt=\"photo\" src=\"https://cdn.quantconnect.com/web/i/icon.png\">\n",
        "\n",
        "Quantconnect\n",
        "\n",
        "Introduction to Financial Python\n",
        "</div>\n",
        "\n",
        "# 02 Logical Operations and Loops\n",
        "\n",
        "# Introduction\n",
        "We discussed the basic data types and data structures in Python in the last tutorial. This chapter covers logical operations and loops in Python, which are very common in programming.\n",
        "\n",
        "# Logical Operations\n",
        "Like most programming languages, Python has comparison operators:"
      ]
    },
    {
      "cell_type": "code",
      "metadata": {
        "colab": {
          "base_uri": "https://localhost:8080/"
        },
        "id": "70Guys_rOv7a",
        "outputId": "18dc46aa-36ba-4310-9093-7cd738f6900b"
      },
      "source": [
        "print(1 == 0) # Comprueba la igualdad de valor\n",
        "print(1 == 1)\n",
        "print(1 != 0) # Comprueba la diferencia de valor\n",
        "print(15 >= 20) # Comprueba si es mayor o igual\n",
        "print(30 >= 26)"
      ],
      "execution_count": null,
      "outputs": [
        {
          "output_type": "stream",
          "name": "stdout",
          "text": [
            "False\n",
            "True\n",
            "True\n",
            "False\n",
            "True\n"
          ]
        }
      ]
    },
    {
      "cell_type": "markdown",
      "metadata": {
        "id": "8aFHYDj-YTXt"
      },
      "source": [
        "Each statement above has a boolean value, which must be either True or False, but not both.\n",
        "\n",
        "We can combine simple statements P and Q to form complex statements using logical operators:\n",
        "\n",
        "- The statement \"P and Q\" is true if both P and Q are true, otherwise it is false.\n",
        "- The statement \"P or Q\" is false if both P and Q are false, otherwise it is true.\n",
        "- The statement \"not P\" is true if P is false, and vice versa."
      ]
    },
    {
      "cell_type": "code",
      "metadata": {
        "colab": {
          "base_uri": "https://localhost:8080/"
        },
        "id": "O5YEEcUbOv7d",
        "outputId": "f9a2687b-563a-468c-a0ee-f6d7b27a4612"
      },
      "source": [
        "print(212 > 1000 and 30 > 22) # Preposición P y Q\n",
        "print(20 > 11 and 30 < 22) \n",
        "print(45 > 6 or 3 < 2) # Preposición P o Q\n",
        "print(90 < 0 or 321 > 200)"
      ],
      "execution_count": null,
      "outputs": [
        {
          "output_type": "stream",
          "name": "stdout",
          "text": [
            "False\n",
            "False\n",
            "True\n",
            "True\n"
          ]
        }
      ]
    },
    {
      "cell_type": "markdown",
      "metadata": {
        "id": "Dy7yzoSXYXmL"
      },
      "source": [
        "When dealing with a very complex logical statement that involves in several statements, we can use brackets to separate and combine them."
      ]
    },
    {
      "cell_type": "code",
      "metadata": {
        "colab": {
          "base_uri": "https://localhost:8080/"
        },
        "id": "QZ-W2xJZOv7d",
        "outputId": "b969fd85-b45a-4055-f630-3cf934e71bb9"
      },
      "source": [
        "print((30 > 21 or 12 < 33) and (2 != 3 and 4 > 3) or not ( 3 < 2 or 1 < 3 and (1 != 3 and 4 > 3))) # Combinación de negación y disyunción\n",
        "print(3 == 2 or 1 < 3 or (1 != 3 and 4 <= 3) and not ( 3 < 2 or 1 < 3 and (1 != 3 or 4 > 3))) # Combinación de negación, conjunción y disyunción"
      ],
      "execution_count": null,
      "outputs": [
        {
          "output_type": "stream",
          "name": "stdout",
          "text": [
            "True\n",
            "True\n"
          ]
        }
      ]
    },
    {
      "cell_type": "markdown",
      "metadata": {
        "id": "s95xoRYMYaPD"
      },
      "source": [
        "Comparing the above two statements, we can see that it's wise to use brackets when we make a complex logical statement.\n",
        "\n",
        "# If Statement\n",
        "An if statement executes a segment of code only if its condition is true. A standard if statement consists of 3 segments: if, elif and else."
      ]
    },
    {
      "cell_type": "markdown",
      "metadata": {
        "id": "aRzMMitAaBOL"
      },
      "source": [
        "```python\n",
        "if statement1:\n",
        "    # if the statement1 is true, execute the code here.\n",
        "    # code.....\n",
        "    # code.....\n",
        "elif statement2:\n",
        "    # if the statement 1 is false, skip the codes above to this part.\n",
        "    # code......\n",
        "    # code......\n",
        "else:\n",
        "    # if none of the above statements is True, skip to this part\n",
        "    # code......\n",
        "```"
      ]
    },
    {
      "cell_type": "markdown",
      "metadata": {
        "id": "l59R2AS8aH2K"
      },
      "source": [
        "An if statement doesn't necessarily has elif and else part. If it's not specified, the indented block of code will be executed when the condition is true, otherwise the whole if statement will be skipped."
      ]
    },
    {
      "cell_type": "code",
      "metadata": {
        "colab": {
          "base_uri": "https://localhost:8080/"
        },
        "id": "FZ5GoTXfOv7e",
        "outputId": "c800eb04-961f-46c2-be82-9490cc6dab06"
      },
      "source": [
        "i = 10\n",
        "if i != 1: # Comprueba si se cumple la condición de i == 10\n",
        "    print('i != 1 is True')"
      ],
      "execution_count": null,
      "outputs": [
        {
          "output_type": "stream",
          "name": "stdout",
          "text": [
            "i != 1 is True\n"
          ]
        }
      ]
    },
    {
      "cell_type": "markdown",
      "metadata": {
        "id": "nPNW-l5eaJn8"
      },
      "source": [
        "As we mentioned above, we can write some complex statements here:"
      ]
    },
    {
      "cell_type": "code",
      "metadata": {
        "colab": {
          "base_uri": "https://localhost:8080/"
        },
        "id": "gh-U6nMzOv7e",
        "outputId": "74cea406-27b9-40c1-b640-f992198474ec"
      },
      "source": [
        "p = 1 < 0 # Se guarda un valor booleano en las variales p y q\n",
        "q = 2 > 3\n",
        "if p and q:\n",
        "    print('p and q is true')\n",
        "elif p and not q:\n",
        "    print('q is false')\n",
        "elif q and not p:\n",
        "    print('p is false')\n",
        "else:\n",
        "    print('None of p and q is true')"
      ],
      "execution_count": null,
      "outputs": [
        {
          "output_type": "stream",
          "name": "stdout",
          "text": [
            "None of p and q is true\n"
          ]
        }
      ]
    },
    {
      "cell_type": "markdown",
      "metadata": {
        "id": "tgRDwiAsaMOL"
      },
      "source": [
        "# Loop Structure\n",
        "Loops are an essential part of programming. The \"for\" and \"while\" loops run a block of code repeatedly.\n",
        "\n",
        "## While Loop\n",
        "A \"while\" loop will run repeatedly until a certain condition has been met."
      ]
    },
    {
      "cell_type": "code",
      "metadata": {
        "colab": {
          "base_uri": "https://localhost:8080/"
        },
        "id": "uQLau8d5Ov7f",
        "outputId": "3419d864-4c8e-4c74-d5f8-9161d4289f06"
      },
      "source": [
        "i = 0\n",
        "while i < 5: # Ejecuta el el bloque interno hasta que i sea menor a 5\n",
        "    print(i)\n",
        "    i += 2 "
      ],
      "execution_count": null,
      "outputs": [
        {
          "output_type": "stream",
          "name": "stdout",
          "text": [
            "0\n",
            "2\n",
            "4\n"
          ]
        }
      ]
    },
    {
      "cell_type": "markdown",
      "metadata": {
        "id": "ydLddFAPaTOE"
      },
      "source": [
        "When making a while loop, we need to ensure that something changes from iteration to iteration so that the while loop will terminate, otherwise, it will run forever. Here we used i += 1 (short for i = i + 1) to make i larger after each iteration. This is the most commonly used method to control a while loop.\n",
        "\n",
        "## For Loop\n",
        "A \"for\" loop will iterate over a sequence of value and terminate when the sequence has ended."
      ]
    },
    {
      "cell_type": "code",
      "metadata": {
        "colab": {
          "base_uri": "https://localhost:8080/"
        },
        "id": "kt8Ie8u1Ov7f",
        "outputId": "8b549f4a-f178-4785-e696-fb2e12b48435"
      },
      "source": [
        "for i in [1, 'Hola', 3.14, 4, True]: # Iteración sobre una lista de valores\n",
        "    print(i)"
      ],
      "execution_count": null,
      "outputs": [
        {
          "output_type": "stream",
          "name": "stdout",
          "text": [
            "1\n",
            "Hola\n",
            "3.14\n",
            "4\n",
            "True\n"
          ]
        }
      ]
    },
    {
      "cell_type": "markdown",
      "metadata": {
        "id": "yWStqpreaX-T"
      },
      "source": [
        "We can also add if statements in a for loop. Here is a real example from our pairs trading algorithm:"
      ]
    },
    {
      "cell_type": "code",
      "metadata": {
        "colab": {
          "base_uri": "https://localhost:8080/"
        },
        "id": "kElmffvFOv7f",
        "outputId": "a4cb5652-7509-4bab-c648-002ce68c1d6a"
      },
      "source": [
        "stocks = ['AAPL','GOOG','IBM','FB','F','V', 'G', 'GE']\n",
        "selected = ['AAPL','IBM']\n",
        "new_list = []\n",
        "for i in stocks: # Iteración sobre una lista\n",
        "    if i not in selected: # Verifica que el valor i no esté en la lista de seleccionados\n",
        "        new_list.append(i) # Añade los valores que no están el la lista de 'selected'\n",
        "print(new_list)"
      ],
      "execution_count": null,
      "outputs": [
        {
          "output_type": "stream",
          "name": "stdout",
          "text": [
            "['GOOG', 'FB', 'F', 'V', 'G', 'GE']\n"
          ]
        }
      ]
    },
    {
      "cell_type": "markdown",
      "metadata": {
        "id": "wb2hry9dahE0"
      },
      "source": [
        "Here we iterated all the elements in the list 'stocks'. Later in this chapter, we will introduce a smarter way to do this, which is just a one-line code.\n",
        "\n",
        "## Break and continue\n",
        "These are two commonly used commands in a for loop. If \"break\" is triggered while a loop is executing, the loop will terminate immediately:"
      ]
    },
    {
      "cell_type": "code",
      "metadata": {
        "colab": {
          "base_uri": "https://localhost:8080/"
        },
        "id": "yF5wMVItOv7g",
        "outputId": "ef19a038-435a-4578-a4d0-2149d973a4ac"
      },
      "source": [
        "stocks = ['AAPL','GOOG','IBM','FB','F','V', 'G', 'GE']\n",
        "for i in stocks:\n",
        "    print(i)\n",
        "    if i == 'IBM':\n",
        "        break # Permite que si la rompa la iteración del ciclo for"
      ],
      "execution_count": null,
      "outputs": [
        {
          "output_type": "stream",
          "name": "stdout",
          "text": [
            "AAPL\n",
            "GOOG\n",
            "IBM\n"
          ]
        }
      ]
    },
    {
      "cell_type": "markdown",
      "metadata": {
        "id": "R0toxyp3ao0T"
      },
      "source": [
        "The \"continue\" command tells the loop to end this iteration and skip to the next iteration:"
      ]
    },
    {
      "cell_type": "code",
      "metadata": {
        "colab": {
          "base_uri": "https://localhost:8080/"
        },
        "id": "Stg-CH6IOv7g",
        "outputId": "7a4428c7-3c99-41ca-f09b-3e3608a341ea"
      },
      "source": [
        "stocks = ['AAPL','GOOG','IBM','FB','F','V', 'G', 'GE']\n",
        "for i in stocks:\n",
        "    if i == 'IBM':\n",
        "        continue # Permite romper dejar de ejecutar la iteración actual y continuar con la siguiente\n",
        "    print(i)"
      ],
      "execution_count": null,
      "outputs": [
        {
          "output_type": "stream",
          "name": "stdout",
          "text": [
            "AAPL\n",
            "GOOG\n",
            "FB\n",
            "F\n",
            "V\n",
            "G\n",
            "GE\n"
          ]
        }
      ]
    },
    {
      "cell_type": "markdown",
      "metadata": {
        "id": "4NusvdhBaxpZ"
      },
      "source": [
        "# List Comprehension\n",
        "List comprehension is a Pythonic way to create lists. Common applications are to make new lists where each element is the result of some operations applied to each member of another sequence. For example, if we want to create a list of squares using for loop:"
      ]
    },
    {
      "cell_type": "code",
      "metadata": {
        "colab": {
          "base_uri": "https://localhost:8080/"
        },
        "id": "bdxxeOABOv7h",
        "outputId": "3d4a3e4f-2e0d-4ace-b90f-18a2521c4e77"
      },
      "source": [
        "squares = []\n",
        "for i in [1, 2, 3, 4, 5, 6, 7]:\n",
        "    squares.append(i**3) # Añade en una lista vacia los valores al cubo de i\n",
        "print(squares)"
      ],
      "execution_count": null,
      "outputs": [
        {
          "output_type": "stream",
          "name": "stdout",
          "text": [
            "[1, 8, 27, 64, 125, 216, 343]\n"
          ]
        }
      ]
    },
    {
      "cell_type": "markdown",
      "metadata": {
        "id": "--KliJBOa1CC"
      },
      "source": [
        "Using list comprehension:"
      ]
    },
    {
      "cell_type": "code",
      "metadata": {
        "colab": {
          "base_uri": "https://localhost:8080/"
        },
        "id": "440-yjG8Ov7h",
        "outputId": "26686a6b-4e8d-4664-e9d2-918ab4a30154"
      },
      "source": [
        "list = [1, 2, 3, 4, 5, 6, 7]\n",
        "squares = [x**3 for x in list] # Forma simplificada de añadir los valores al cubo de i\n",
        "print(squares)"
      ],
      "execution_count": null,
      "outputs": [
        {
          "output_type": "stream",
          "name": "stdout",
          "text": [
            "[1, 8, 27, 64, 125, 216, 343]\n"
          ]
        }
      ]
    },
    {
      "cell_type": "markdown",
      "metadata": {
        "id": "uMuCfR3ya3zT"
      },
      "source": [
        "Recall the example above where we used a for loop to select stocks. Here we use list comprehension:"
      ]
    },
    {
      "cell_type": "code",
      "metadata": {
        "colab": {
          "base_uri": "https://localhost:8080/"
        },
        "id": "ZGtCtog2Ov7h",
        "outputId": "996745c4-d4b9-4c3e-e593-20e0cbeeab1f"
      },
      "source": [
        "stocks = ['APPLE','GOOGLE','IBM','FACEBOOK','F','V', 'G', 'GE']\n",
        "selected = ['GOOGLE','IBM', 'FACEBOOK']\n",
        "new_list = [x for x in stocks if x in selected] # Añade en la nueva lista los valores de x en 'stocks' que a su vez estén también en 'selected'\n",
        "print(new_list)"
      ],
      "execution_count": null,
      "outputs": [
        {
          "output_type": "stream",
          "name": "stdout",
          "text": [
            "['GOOGLE', 'IBM', 'FACEBOOK']\n"
          ]
        }
      ]
    },
    {
      "cell_type": "markdown",
      "metadata": {
        "id": "EPeUv6Lia5oD"
      },
      "source": [
        "A list comprehension consists of square brackets containing an expression followed by a \"for\" clause, and possibly \"for\" or \"if\" clauses. For example:"
      ]
    },
    {
      "cell_type": "code",
      "metadata": {
        "colab": {
          "base_uri": "https://localhost:8080/"
        },
        "id": "O1AMB5d7Ov7i",
        "outputId": "92fa64da-a4ff-4005-cc2e-7c381f8db5df"
      },
      "source": [
        "# Lista de duplas cuyos valores son distintos\n",
        "print([(x, y) for x in [1,2,3] for y in [2,5,4] if x != y])\n",
        "print([str(x)+' vs '+str(y) for x in ['APPLE','GOOGLE','IBM'] for y in ['F','V','G'] if x!=y])"
      ],
      "execution_count": null,
      "outputs": [
        {
          "output_type": "stream",
          "name": "stdout",
          "text": [
            "[(1, 2), (1, 5), (1, 4), (2, 5), (2, 4), (3, 2), (3, 5), (3, 4)]\n",
            "['APPLE vs F', 'APPLE vs V', 'APPLE vs G', 'GOOGLE vs F', 'GOOGLE vs V', 'GOOGLE vs G', 'IBM vs F', 'IBM vs V', 'IBM vs G']\n"
          ]
        }
      ]
    },
    {
      "cell_type": "markdown",
      "metadata": {
        "id": "jJpvq-o4a8P7"
      },
      "source": [
        "List comprehension is an elegant way to organize one or more for loops when creating a list.\n",
        "\n",
        "# Summary\n",
        "This chapter has introduced logical operations, loops, and list comprehension. In the next chapter, we will introduce functions and object-oriented programming, which will enable us to make our codes clean and versatile."
      ]
    },
    {
      "cell_type": "markdown",
      "metadata": {
        "id": "Tef_X2wJbdhn"
      },
      "source": [
        "<div align=\"center\">\n",
        "<img style=\"display: block; margin: auto;\" alt=\"photo\" src=\"https://cdn.quantconnect.com/web/i/icon.png\">\n",
        "\n",
        "Quantconnect\n",
        "\n",
        "Introduction to Financial Python\n",
        "</div>\n",
        "\n",
        "# 03 Functions and Objective-Oriented Programming\n",
        "\n",
        "# Introduction\n",
        "\n",
        "In the last tutorial we introduced logical operations, loops and list comprehension. We will introduce functions and object-oriented programming in this chapter, which will enable us to build complex algorithms in more flexible ways.\n",
        "\n",
        "# Functions\n",
        "A function is a reusable block of code. We can use a function to output a value, or do anything else we want. We can easily define our own function by using the keyword \"def\"."
      ]
    },
    {
      "cell_type": "code",
      "metadata": {
        "colab": {
          "base_uri": "https://localhost:8080/"
        },
        "id": "eE_NkTiSO2PO",
        "outputId": "2139cb87-f515-43ad-e86c-67cde722b061"
      },
      "source": [
        "def product(x,y): # Define una función que retorna la multiplicación de dos valores\n",
        "    return x*y\n",
        "print(product(3,3)) # Llama a la función definida junto con sus valores de parámetro\n",
        "print(product(5,15))"
      ],
      "execution_count": null,
      "outputs": [
        {
          "output_type": "stream",
          "name": "stdout",
          "text": [
            "9\n",
            "75\n"
          ]
        }
      ]
    },
    {
      "cell_type": "markdown",
      "metadata": {
        "id": "4oRU_dVJbsdD"
      },
      "source": [
        "The keyword \"def\" is followed by the function name and the parenthesized list of formal parameters. The statements that form the body of the function start at the next line, and must be indented. The product() function above has \"x\" and \"y\" as its parameters. A function doesn't necessarily have parameters:"
      ]
    },
    {
      "cell_type": "code",
      "metadata": {
        "colab": {
          "base_uri": "https://localhost:8080/"
        },
        "id": "JhdWVLbUO2PQ",
        "outputId": "90257894-27a9-4956-c8b2-64849f41c68a"
      },
      "source": [
        "def say_hi(): # Define una función que imprime un mensaje\n",
        "    print('Hola mundo')\n",
        "say_hi() # Llama a la función"
      ],
      "execution_count": null,
      "outputs": [
        {
          "output_type": "stream",
          "name": "stdout",
          "text": [
            "Hola mundo\n"
          ]
        }
      ]
    },
    {
      "cell_type": "markdown",
      "metadata": {
        "id": "lHwqVpWVb1Jr"
      },
      "source": [
        "# Built-in Function\n",
        "**range()** is a function that creates a list containing an arithmetic sequence. It's often used in for loops. The arguments must be integers. If the \"step\" argument is omitted, it defaults to 1."
      ]
    },
    {
      "cell_type": "code",
      "metadata": {
        "colab": {
          "base_uri": "https://localhost:8080/"
        },
        "id": "VVOTELcIO2PQ",
        "outputId": "ffcef285-bc64-40de-ca29-7b36f6747105"
      },
      "source": [
        "print(range(15)) # Crea una lista del 0 al 14\n",
        "print(range(1,21)) # Crea una lista del 1 al 20\n",
        "print(range(1,16,3)) # Crea una lista del 1 al 15 aumentando de 3 en 3"
      ],
      "execution_count": null,
      "outputs": [
        {
          "output_type": "stream",
          "name": "stdout",
          "text": [
            "range(0, 15)\n",
            "range(1, 21)\n",
            "range(1, 16, 3)\n"
          ]
        }
      ]
    },
    {
      "cell_type": "markdown",
      "metadata": {
        "id": "PD0cSgiwcQ4L"
      },
      "source": [
        "**len()** is another function used together with range() to create a for loop. This function returns the length of an object. The argument must be a sequence or a collection."
      ]
    },
    {
      "cell_type": "code",
      "metadata": {
        "colab": {
          "base_uri": "https://localhost:8080/"
        },
        "id": "Hg18c7v-O2PR",
        "outputId": "99209ba2-6e4f-426f-fbe6-15d02ceba91b"
      },
      "source": [
        "tickers = ['APPLE','GOOGLE','IBM','FACEBOOK','F','V']\n",
        "print('The length of tickers is {}'.format(len(tickers)))\n",
        "for i in range(len(tickers)): # Se usa la lista creada por range() del 0 al 5\n",
        "    print(tickers[i])"
      ],
      "execution_count": null,
      "outputs": [
        {
          "output_type": "stream",
          "name": "stdout",
          "text": [
            "The length of tickers is 6\n",
            "APPLE\n",
            "GOOGLE\n",
            "IBM\n",
            "FACEBOOK\n",
            "F\n",
            "V\n"
          ]
        }
      ]
    },
    {
      "cell_type": "markdown",
      "metadata": {
        "id": "OIQSuub1cWgi"
      },
      "source": [
        "Note: If you want to print only the tickers without those numbers, then simply write \"for ticker in tickers: print ticker\"\n",
        "\n",
        "**map(**) is a function that applies a specific function to every item of a sequence or collection, and returns a list of the results."
      ]
    },
    {
      "cell_type": "markdown",
      "metadata": {
        "id": "pqPuspeG5HAi"
      },
      "source": [
        "Because list at the moment is [1,2,3,4,5] and overwriting list() from builtins we del list"
      ]
    },
    {
      "cell_type": "code",
      "metadata": {
        "colab": {
          "base_uri": "https://localhost:8080/"
        },
        "id": "caV9c-qk4_eZ",
        "outputId": "fd072974-1fab-41ec-bafa-dcd33408ab10"
      },
      "source": [
        "list = [1,2,3,4,5]\n",
        "print(list)\n",
        "del list # Elimina la lista\n",
        "list"
      ],
      "execution_count": null,
      "outputs": [
        {
          "output_type": "stream",
          "name": "stdout",
          "text": [
            "[1, 2, 3, 4, 5]\n"
          ]
        },
        {
          "output_type": "execute_result",
          "data": {
            "text/plain": [
              "list"
            ]
          },
          "metadata": {},
          "execution_count": 99
        }
      ]
    },
    {
      "cell_type": "code",
      "metadata": {
        "colab": {
          "base_uri": "https://localhost:8080/"
        },
        "id": "lJBs5ECT4mSq",
        "outputId": "b189d105-da24-48d8-aed6-7dc9a3468103"
      },
      "source": [
        "tickers = ['APPLE','GOOGLE','IBM','FACEBOOK','F','V']\n",
        "list(map(len,tickers)) # Imprime en una lista los valores de la longitud de cada cadena"
      ],
      "execution_count": null,
      "outputs": [
        {
          "output_type": "execute_result",
          "data": {
            "text/plain": [
              "[5, 6, 3, 8, 1, 1]"
            ]
          },
          "metadata": {},
          "execution_count": 100
        }
      ]
    },
    {
      "cell_type": "code",
      "metadata": {
        "colab": {
          "base_uri": "https://localhost:8080/"
        },
        "id": "78DyKVOyO2PR",
        "outputId": "6b0d4a23-1ca5-4c9f-8ae8-f82766aa8277"
      },
      "source": [
        "tickers = ['APPLE','GOOGLE','IBM','FACEBOOK','F','V', 'G', 'GE']\n",
        "print(list(map(len,tickers))) # Imprime en una lista los valores de la longitud de cada cadena"
      ],
      "execution_count": null,
      "outputs": [
        {
          "output_type": "stream",
          "name": "stdout",
          "text": [
            "[5, 6, 3, 8, 1, 1, 1, 2]\n"
          ]
        }
      ]
    },
    {
      "cell_type": "markdown",
      "metadata": {
        "id": "mvr06UM7ca7b"
      },
      "source": [
        "The **lambda operator** is a way to create small anonymous functions. These functions are just needed where they have been created. For example:"
      ]
    },
    {
      "cell_type": "code",
      "metadata": {
        "colab": {
          "base_uri": "https://localhost:8080/"
        },
        "id": "pAEHADYXO2PR",
        "outputId": "945610e9-76a7-4671-f760-4013ac4aa143"
      },
      "source": [
        "list(map(lambda x: x**2, range(10))) # Crea una función anónima local, que sirve como parámetro para map()"
      ],
      "execution_count": null,
      "outputs": [
        {
          "output_type": "execute_result",
          "data": {
            "text/plain": [
              "[0, 1, 4, 9, 16, 25, 36, 49, 64, 81]"
            ]
          },
          "metadata": {},
          "execution_count": 49
        }
      ]
    },
    {
      "cell_type": "markdown",
      "metadata": {
        "id": "Mgixpxomcj3T"
      },
      "source": [
        "map() can be applied to more than one list. The lists have to have the same length."
      ]
    },
    {
      "cell_type": "code",
      "metadata": {
        "colab": {
          "base_uri": "https://localhost:8080/"
        },
        "id": "HtckhAaJO2PS",
        "outputId": "86f8d920-68cd-45d9-adf6-fcb1bdbd64f6"
      },
      "source": [
        "list(map(lambda x, y: x+y, [1, 2, 3, 4, 5], [10, 9, 8, 7, 6])) # La función anómima suma los valores en cada una de las posiciones de ambas listas"
      ],
      "execution_count": null,
      "outputs": [
        {
          "output_type": "execute_result",
          "data": {
            "text/plain": [
              "[11, 11, 11, 11, 11]"
            ]
          },
          "metadata": {},
          "execution_count": 106
        }
      ]
    },
    {
      "cell_type": "markdown",
      "metadata": {
        "id": "ZDnMTH-KcklT"
      },
      "source": [
        "**sorted()** takes a list or set and returns a new sorted list"
      ]
    },
    {
      "cell_type": "code",
      "metadata": {
        "colab": {
          "base_uri": "https://localhost:8080/"
        },
        "id": "P0sHUMFWO2PS",
        "outputId": "171c5e61-abe8-4678-d64a-73ffda07e9a8"
      },
      "source": [
        "sorted([15, 23, 3, 0, 2]) # Ordena una lista de valores dada"
      ],
      "execution_count": null,
      "outputs": [
        {
          "output_type": "execute_result",
          "data": {
            "text/plain": [
              "[0, 2, 3, 15, 23]"
            ]
          },
          "metadata": {},
          "execution_count": 108
        }
      ]
    },
    {
      "cell_type": "markdown",
      "metadata": {
        "id": "-N5_EDOFcnsc"
      },
      "source": [
        "We can add a \"key\" parameter to specify a function to be called on each list element prior to making comparisons. For example:"
      ]
    },
    {
      "cell_type": "code",
      "metadata": {
        "colab": {
          "base_uri": "https://localhost:8080/"
        },
        "id": "0i3peZ0bO2PS",
        "outputId": "fb3efdf7-c9a1-49c5-df93-260b1c72edce"
      },
      "source": [
        "price_list = [('APPLE',144.09),('GOOGLE',911.71),('MICROSOFT',69),('FACEBOOK',150),('WMT',75.32)] # Lista de precios junto con su llave\n",
        "sorted(price_list, key = lambda x: x[1]) # Ordena la lista de precios a partir del precio de cada ítem de forma ascendente"
      ],
      "execution_count": null,
      "outputs": [
        {
          "output_type": "execute_result",
          "data": {
            "text/plain": [
              "[('MICROSOFT', 69),\n",
              " ('WMT', 75.32),\n",
              " ('APPLE', 144.09),\n",
              " ('FACEBOOK', 150),\n",
              " ('GOOGLE', 911.71)]"
            ]
          },
          "metadata": {},
          "execution_count": 112
        }
      ]
    },
    {
      "cell_type": "markdown",
      "metadata": {
        "id": "yun2zptKcxe_"
      },
      "source": [
        "By default the values are sorted by ascending order. We can change it to descending by adding an optional parameter \"reverse'."
      ]
    },
    {
      "cell_type": "code",
      "metadata": {
        "colab": {
          "base_uri": "https://localhost:8080/"
        },
        "id": "dEZqdl94O2PT",
        "outputId": "aa6fea27-4a54-418c-8d81-fe19458c4ae7"
      },
      "source": [
        "price_list = [('APPLE',144.09),('GOOGLE',911.71),('MICROSOFT',69),('FACEBOOK',150),('WMT',75.32)]\n",
        "sorted(price_list, key = lambda x: x[1],reverse = True) # Ordena la lista de precios de forma descendente"
      ],
      "execution_count": null,
      "outputs": [
        {
          "output_type": "execute_result",
          "data": {
            "text/plain": [
              "[('GOOGLE', 911.71),\n",
              " ('FACEBOOK', 150),\n",
              " ('APPLE', 144.09),\n",
              " ('WMT', 75.32),\n",
              " ('MICROSOFT', 69)]"
            ]
          },
          "metadata": {},
          "execution_count": 113
        }
      ]
    },
    {
      "cell_type": "markdown",
      "metadata": {
        "id": "OA2wYAa0c6Dn"
      },
      "source": [
        "Lists also have a function list.sort(). This function takes the same \"key\" and \"reverse\" arguments as sorted(), but it doesn't return a new list."
      ]
    },
    {
      "cell_type": "code",
      "metadata": {
        "colab": {
          "base_uri": "https://localhost:8080/"
        },
        "id": "pG9VQCLnO2PT",
        "outputId": "2e8dd4d8-8480-41c8-987e-100430415b49"
      },
      "source": [
        "price_list = [('APPLE',144.09),('GOOGLE',911.71),('MICROSOFT',69),('FACEBOOK',150),('WMT',75.32)]\n",
        "price_list.sort(key = lambda x: x[1]) # Permite ordenar la misma lista que se da, sin necesidad de crear otra\n",
        "print(price_list)"
      ],
      "execution_count": null,
      "outputs": [
        {
          "output_type": "stream",
          "name": "stdout",
          "text": [
            "[('MICROSOFT', 69), ('WMT', 75.32), ('APPLE', 144.09), ('FACEBOOK', 150), ('GOOGLE', 911.71)]\n"
          ]
        }
      ]
    },
    {
      "cell_type": "markdown",
      "metadata": {
        "id": "mxljL1W1c_c5"
      },
      "source": [
        "# Object-Oriented Programming\n",
        "Python is an object-oriented programming language. It's important to understand the concept of \"objects\" because almost every kind of data from QuantConnect API is an object.\n",
        "\n",
        "## Class\n",
        "A class is a type of data, just like a string, float, or list. When we create an object of that data type, we call it an instance of a class.\n",
        "\n",
        "In Python, everything is an object - everything is an instance of some class. The data stored inside an object are called attributes, and the functions which are associated with the object are called methods.\n",
        "\n",
        "For example, as mentioned above, a list is an object of the \"list\" class, and it has a method list.sort().\n",
        "\n",
        "We can create our own objects by defining a class. We would do this when it's helpful to group certain functions together. For example, we define a class named \"Stock\" here:"
      ]
    },
    {
      "cell_type": "code",
      "metadata": {
        "id": "zC4Y4PgDO2PT"
      },
      "source": [
        "class stock:\n",
        "    def __init__(self, ticker, open, close, volume): # Inicaliza los atributos del objeto stock\n",
        "        self.ticker = ticker\n",
        "        self.open = open\n",
        "        self.close = close\n",
        "        self.volume = volume\n",
        "        self.rate_return = float(close)/open - 1\n",
        " \n",
        "    def update(self, open, close): # Función que actualiza algunos valores del objeto\n",
        "        self.open = open\n",
        "        self.close = close\n",
        "        self.rate_return = float(self.close)/self.open - 1\n",
        " \n",
        "    def print_return(self): # FUnción que imprime el resultado de la operación close/open - 1\n",
        "        print(self.rate_return)"
      ],
      "execution_count": null,
      "outputs": []
    },
    {
      "cell_type": "markdown",
      "metadata": {
        "id": "rV06INT5dETi"
      },
      "source": [
        "The \"Stock\" class has attributes \"ticker\", \"open\", \"close\", \"volume\" and \"rate_return\". Inside the class body, the first method is called __init__, which is a special method. When we create a new instance of the class, the __init__ method is immediately executed with all the parameters that we pass to the \"Stock\" object. The purpose of this method is to set up a new \"Stock\" object using data we have provided.\n",
        "\n",
        "Here we create two Stock objects named \"apple\" and \"google\"."
      ]
    },
    {
      "cell_type": "code",
      "metadata": {
        "id": "8tIpNk93O2PU"
      },
      "source": [
        "apple = stock('APPLE', 143.69, 144.09, 20109375) # Se inicializa dos instacias de la clase stock\n",
        "google = stock('GOOGLE', 898.7, 911.7, 1561616)"
      ],
      "execution_count": null,
      "outputs": []
    },
    {
      "cell_type": "markdown",
      "metadata": {
        "id": "VxmELNiHdPKS"
      },
      "source": [
        "Stock objects also have two other methods: update() and print_return(). We can access the attribues of a Stock object and call its methods:"
      ]
    },
    {
      "cell_type": "code",
      "metadata": {
        "colab": {
          "base_uri": "https://localhost:8080/"
        },
        "id": "SsiIkmekO2PU",
        "outputId": "8e7dcda8-31dd-4ece-cd3b-c28e17af4e82"
      },
      "source": [
        "print(apple.ticker) # Se accede al valor del atributo ticker del objeto\n",
        "google.print_return() # Muestra el valor que retorna la función print_return() de la clase stock\n",
        "google.update(910.8, 1013.4) # Se hace uso de la función update() del objeto stock\n",
        "google.print_return()# Muestra el valor actualizado de la función print_return() de la clase stock"
      ],
      "execution_count": null,
      "outputs": [
        {
          "output_type": "stream",
          "name": "stdout",
          "text": [
            "APPLE\n",
            "0.11264822134387353\n",
            "0.11264822134387353\n"
          ]
        }
      ]
    },
    {
      "cell_type": "markdown",
      "metadata": {
        "id": "Q8fl7keNdVKF"
      },
      "source": [
        "By calling the update() function, we updated the open and close prices of a stock. Please note that when we use the attributes or call the methods **inside a class**, we need to specify them as self.attribute or self.method(), otherwise Python will deem them as global variables and thus raise an error.\n",
        "\n",
        "We can add an attribute to an object anywhere:"
      ]
    },
    {
      "cell_type": "code",
      "metadata": {
        "colab": {
          "base_uri": "https://localhost:8080/",
          "height": 35
        },
        "id": "rO4OLnqOO2PU",
        "outputId": "6b592394-c726-418e-f26c-c9d052db3706"
      },
      "source": [
        "apple.ceo = 'Tim Cook' # Crea un nuevo atributo para la instacia 'apple' de la clase stock\n",
        "apple.ceo"
      ],
      "execution_count": null,
      "outputs": [
        {
          "output_type": "execute_result",
          "data": {
            "application/vnd.google.colaboratory.intrinsic+json": {
              "type": "string"
            },
            "text/plain": [
              "'Tim Cook'"
            ]
          },
          "metadata": {},
          "execution_count": 122
        }
      ]
    },
    {
      "cell_type": "markdown",
      "metadata": {
        "id": "WyfnFgVidh4J"
      },
      "source": [
        "We can check what names (i.e. attributes and methods) are defined on an object using the dir() function:"
      ]
    },
    {
      "cell_type": "code",
      "metadata": {
        "colab": {
          "base_uri": "https://localhost:8080/"
        },
        "id": "pPoz0LA8O2PU",
        "outputId": "4dcea2e2-771b-4d71-c743-5cb63c81f277"
      },
      "source": [
        "dir(apple) # Lista los métodos definidos que tiene una instancia de un objeto"
      ],
      "execution_count": null,
      "outputs": [
        {
          "output_type": "execute_result",
          "data": {
            "text/plain": [
              "['__class__',\n",
              " '__delattr__',\n",
              " '__dict__',\n",
              " '__dir__',\n",
              " '__doc__',\n",
              " '__eq__',\n",
              " '__format__',\n",
              " '__ge__',\n",
              " '__getattribute__',\n",
              " '__gt__',\n",
              " '__hash__',\n",
              " '__init__',\n",
              " '__init_subclass__',\n",
              " '__le__',\n",
              " '__lt__',\n",
              " '__module__',\n",
              " '__ne__',\n",
              " '__new__',\n",
              " '__reduce__',\n",
              " '__reduce_ex__',\n",
              " '__repr__',\n",
              " '__setattr__',\n",
              " '__sizeof__',\n",
              " '__str__',\n",
              " '__subclasshook__',\n",
              " '__weakref__',\n",
              " 'ceo',\n",
              " 'close',\n",
              " 'open',\n",
              " 'print_return',\n",
              " 'rate_return',\n",
              " 'ticker',\n",
              " 'update',\n",
              " 'volume']"
            ]
          },
          "metadata": {},
          "execution_count": 59
        }
      ]
    },
    {
      "cell_type": "markdown",
      "metadata": {
        "id": "Qpemj1UZd2aa"
      },
      "source": [
        "## Inheritance\n",
        "Inheritance is a way of arranging classes in a hierarchy from the most general to the most specific. A \"child\" class is a more specific type of a \"parent\" class because a child class will inherit all the attribues and methods of its parent. For example, we define a class named \"Child\" which inherits \"Stock\":"
      ]
    },
    {
      "cell_type": "code",
      "metadata": {
        "id": "UELXnxomO2PV"
      },
      "source": [
        "class child(stock): # Crea una clase hija de la clase stock\n",
        "    def __init__(self,name):\n",
        "        self.name = name # Define un atributo name para la clase hija"
      ],
      "execution_count": null,
      "outputs": []
    },
    {
      "cell_type": "code",
      "metadata": {
        "colab": {
          "base_uri": "https://localhost:8080/"
        },
        "id": "ffS2THZyO2PV",
        "outputId": "563055ef-76e5-4957-ac88-a90c5b099b0a"
      },
      "source": [
        "aa = child('hi') # Inicializa una instancia de la clase child, y pasa como parámetro el nombre\n",
        "print(aa.name)\n",
        "aa.update(230,302)\n",
        "print(aa.open)\n",
        "print(aa.close)\n",
        "print(aa.print_return())"
      ],
      "execution_count": null,
      "outputs": [
        {
          "output_type": "stream",
          "name": "stdout",
          "text": [
            "hi\n",
            "230\n",
            "302\n",
            "0.31304347826086953\n",
            "None\n"
          ]
        }
      ]
    },
    {
      "cell_type": "markdown",
      "metadata": {
        "id": "pdIEjUv2eJqL"
      },
      "source": [
        "As seen above, the new class Child has inherited the methods from Stock.\n",
        "\n",
        "#Summary\n",
        "\n",
        "In this chapter we have introduced functions and classes. When we write a QuantConnect algorithm, we would define our algorithm as a class (QCAlgorithm). This means our algorithm inherited the QC API methods from QCAlgorithm class.\n",
        "\n",
        "In the next chapter, we will introduce NumPy and Pandas, which enable us to conduct scientific calculations in Python."
      ]
    },
    {
      "cell_type": "markdown",
      "metadata": {
        "id": "dQbENH6mexTd"
      },
      "source": [
        "<div align=\"center\">\n",
        "<img style=\"display: block; margin: auto;\" alt=\"photo\" src=\"https://cdn.quantconnect.com/web/i/icon.png\">\n",
        "\n",
        "Quantconnect\n",
        "\n",
        "Introduction to Financial Python\n",
        "</div>\n",
        "\n",
        "# 04 NumPy and Basic Pandas\n",
        "\n",
        "# Introduction\n",
        "\n",
        "Now that we have introduced the fundamentals of Python, it's time to learn about NumPy and Pandas.\n",
        "\n",
        "# NumPy\n",
        "NumPy is the core library for scientific computing in Python. It provides a high-performance multidimensional array object, and tools for working with these arrays. It also has strong integration with Pandas, which is another powerful tool for manipulating financial data.\n",
        "\n",
        "Python packages like NumPy and Pandas contain classes and methods which we can use by importing the package:"
      ]
    },
    {
      "cell_type": "code",
      "metadata": {
        "id": "aIESp-rdO58h"
      },
      "source": [
        "import numpy as np"
      ],
      "execution_count": null,
      "outputs": []
    },
    {
      "cell_type": "markdown",
      "metadata": {
        "id": "GScHHJ5ke7ea"
      },
      "source": [
        "## Basic NumPy Arrays\n",
        "A NumPy array is a grid of values, all of the same type, and is indexed by a tuple of nonnegative integers. Here we make an array by passing a list of Apple stock prices:"
      ]
    },
    {
      "cell_type": "code",
      "metadata": {
        "colab": {
          "base_uri": "https://localhost:8080/"
        },
        "id": "lZI1wkwDO58i",
        "outputId": "53118dea-5f44-42a7-a3eb-9435383b18c6"
      },
      "source": [
        "price_list = [143.73, 145.83, 143.68, 144.02, 143.5, 142.62]\n",
        "price_array = np.array(price_list) # Convierte la lista de números en un vector que se manipula mediante NumPy\n",
        "print(price_array, type(price_array))"
      ],
      "execution_count": null,
      "outputs": [
        {
          "output_type": "stream",
          "name": "stdout",
          "text": [
            "[143.73 145.83 143.68 144.02 143.5  142.62] <class 'numpy.ndarray'>\n"
          ]
        }
      ]
    },
    {
      "cell_type": "markdown",
      "metadata": {
        "id": "-5Yj6u9ifB-t"
      },
      "source": [
        "Notice that the type of array is \"ndarray\" which is a multi-dimensional array. If we pass np.array() a list of lists, it will create a 2-dimensional array."
      ]
    },
    {
      "cell_type": "code",
      "metadata": {
        "colab": {
          "base_uri": "https://localhost:8080/"
        },
        "id": "obvIZrK-O58j",
        "outputId": "d5f4f0e1-71e3-477a-f23f-05e46236a559"
      },
      "source": [
        "Ar = np.array([[1,2],[3,4], [5,6]]) # Crea una matriz usando NumPy, mediante vectores multidimensionales \n",
        "print(Ar, type(Ar))"
      ],
      "execution_count": null,
      "outputs": [
        {
          "output_type": "stream",
          "name": "stdout",
          "text": [
            "[[1 2]\n",
            " [3 4]\n",
            " [5 6]] <class 'numpy.ndarray'>\n"
          ]
        }
      ]
    },
    {
      "cell_type": "markdown",
      "metadata": {
        "id": "uDdfLD9HfHkl"
      },
      "source": [
        "We get the dimensions of an ndarray using the .shape attribute:"
      ]
    },
    {
      "cell_type": "code",
      "metadata": {
        "colab": {
          "base_uri": "https://localhost:8080/"
        },
        "id": "G2txdn73O58j",
        "outputId": "c3bdac5f-931e-43f9-af82-229b5d17bf7d"
      },
      "source": [
        "print(Ar.shape) # Muestra las dimensiones de la matriz creada, (filas, columnas)"
      ],
      "execution_count": null,
      "outputs": [
        {
          "output_type": "stream",
          "name": "stdout",
          "text": [
            "(3, 2)\n"
          ]
        }
      ]
    },
    {
      "cell_type": "markdown",
      "metadata": {
        "id": "87W5ueORfPEy"
      },
      "source": [
        "If we create an 2-dimensional array (i.e. matrix), each row can be accessed by index:"
      ]
    },
    {
      "cell_type": "code",
      "metadata": {
        "colab": {
          "base_uri": "https://localhost:8080/"
        },
        "id": "x_QV9aPbO58j",
        "outputId": "d6344547-5d17-4a22-8d26-6fd4894317f7"
      },
      "source": [
        "print(Ar[0]) # Muestra la fila indicada de la matriz, iniciando por el 0\n",
        "print(Ar[1])"
      ],
      "execution_count": null,
      "outputs": [
        {
          "output_type": "stream",
          "name": "stdout",
          "text": [
            "[1 2]\n",
            "[3 4]\n"
          ]
        }
      ]
    },
    {
      "cell_type": "markdown",
      "metadata": {
        "id": "5Hke7Vt-fSGB"
      },
      "source": [
        "If we want to access the matrix by column instead:"
      ]
    },
    {
      "cell_type": "code",
      "metadata": {
        "colab": {
          "base_uri": "https://localhost:8080/"
        },
        "id": "gHVwbPfOO58j",
        "outputId": "957f95a7-232c-4462-f55d-2998575d67cb"
      },
      "source": [
        "print('the first column: ', Ar[:,0]) # Muestra la columna indicada de la matriz\n",
        "print('the second column: ', Ar[:,1])"
      ],
      "execution_count": null,
      "outputs": [
        {
          "output_type": "stream",
          "name": "stdout",
          "text": [
            "the first column:  [1 3 5]\n",
            "the second column:  [2 4 6]\n"
          ]
        }
      ]
    },
    {
      "cell_type": "markdown",
      "metadata": {
        "id": "T61cD0HMfStB"
      },
      "source": [
        "## Array Functions\n",
        "Some functions built in NumPy that allow us to perform calculations on arrays. For example, we can apply the natural logarithm to each element of an array:"
      ]
    },
    {
      "cell_type": "code",
      "metadata": {
        "colab": {
          "base_uri": "https://localhost:8080/"
        },
        "id": "PKhwtJ7XO58k",
        "outputId": "5734372b-2ffa-44e4-8146-5906268cd6c8"
      },
      "source": [
        "print(np.log(price_array)) # Aplica el logaritmo a cada uno de los valores de la lista"
      ],
      "execution_count": null,
      "outputs": [
        {
          "output_type": "stream",
          "name": "stdout",
          "text": [
            "[4.96793654 4.98244156 4.9675886  4.96995218 4.96633504 4.96018375]\n"
          ]
        }
      ]
    },
    {
      "cell_type": "markdown",
      "metadata": {
        "id": "uzjBRFBLfZ-D"
      },
      "source": [
        "Other functions return a single value:"
      ]
    },
    {
      "cell_type": "code",
      "metadata": {
        "colab": {
          "base_uri": "https://localhost:8080/"
        },
        "id": "nQuABZqUO58k",
        "outputId": "9a7c1f99-7bd2-483f-95ce-a8af10c975af"
      },
      "source": [
        "print(np.mean(price_array)) # Calcula la media del precio de las acciones que están en la lista\n",
        "print(np.std(price_array)) # Calcula la desviación estandar de los precios que están en la lista\n",
        "print(np.sum(price_array)) # Suma de cada uno de los elementos de la lista\n",
        "print(np.max(price_array)) # Mayor valor de la lista"
      ],
      "execution_count": null,
      "outputs": [
        {
          "output_type": "stream",
          "name": "stdout",
          "text": [
            "143.89666666666668\n",
            "0.9673790478515796\n",
            "863.38\n",
            "145.83\n"
          ]
        }
      ]
    },
    {
      "cell_type": "markdown",
      "metadata": {
        "id": "IRW95BsifgDB"
      },
      "source": [
        "The functions above return the mean, standard deviation, total and maximum value of an array.\n",
        "\n",
        "# Pandas\n",
        "Pandas is one of the most powerful tools for dealing with financial data. \n",
        "\n",
        "First we need to import Pandas:"
      ]
    },
    {
      "cell_type": "code",
      "metadata": {
        "id": "xIYH4oUfO58k"
      },
      "source": [
        "import pandas as pd"
      ],
      "execution_count": null,
      "outputs": []
    },
    {
      "cell_type": "markdown",
      "metadata": {
        "id": "zOig5gORfnJU"
      },
      "source": [
        "## Series\n",
        "Series is a one-dimensional labeled array capable of holding any data type (integers, strings, float, Python object, etc.)\n",
        "\n",
        "We create a Series by calling pd.Series(data), where data can be a dictionary, an array or just a scalar value."
      ]
    },
    {
      "cell_type": "code",
      "metadata": {
        "colab": {
          "base_uri": "https://localhost:8080/"
        },
        "id": "JmzoNzrPO58k",
        "outputId": "923b9a2b-bcdb-4cd8-b936-e026560b8656"
      },
      "source": [
        "price = [143.73, 145.83, 143.68, 144.02, 143.5, 142.62]\n",
        "s = pd.Series(price) # Convierte la lista en una Serie unidimensional\n",
        "s"
      ],
      "execution_count": null,
      "outputs": [
        {
          "output_type": "execute_result",
          "data": {
            "text/plain": [
              "0    143.73\n",
              "1    145.83\n",
              "2    143.68\n",
              "3    144.02\n",
              "4    143.50\n",
              "5    142.62\n",
              "dtype: float64"
            ]
          },
          "metadata": {},
          "execution_count": 17
        }
      ]
    },
    {
      "cell_type": "markdown",
      "metadata": {
        "id": "tP5iDnunfq46"
      },
      "source": [
        "We can customize the indices of a new Series:"
      ]
    },
    {
      "cell_type": "code",
      "metadata": {
        "colab": {
          "base_uri": "https://localhost:8080/"
        },
        "id": "eswQC3ZPO58l",
        "outputId": "2c4fbdd0-5e70-491d-cac2-d0c178f99173"
      },
      "source": [
        "s = pd.Series(price,index = ['i.', 'ii.', 'iii.', 'iv.', 'v.', 'vi.']) # Cambia los índices de la serie por los indicados\n",
        "s"
      ],
      "execution_count": null,
      "outputs": [
        {
          "output_type": "execute_result",
          "data": {
            "text/plain": [
              "i.      143.73\n",
              "ii.     145.83\n",
              "iii.    143.68\n",
              "iv.     144.02\n",
              "v.      143.50\n",
              "vi.     142.62\n",
              "dtype: float64"
            ]
          },
          "metadata": {},
          "execution_count": 21
        }
      ]
    },
    {
      "cell_type": "markdown",
      "metadata": {
        "id": "wdZrb8pEfuua"
      },
      "source": [
        "Or we can change the indices of an existing Series:"
      ]
    },
    {
      "cell_type": "code",
      "metadata": {
        "colab": {
          "base_uri": "https://localhost:8080/"
        },
        "id": "MwlRnPF6O58l",
        "outputId": "3a1a357c-ecfd-4378-ea0c-cfe87e7a6c13"
      },
      "source": [
        "s.index = [6, 5, 4, 3, 2, 1] # Otra forma de cambiar los índices de la serie\n",
        "s"
      ],
      "execution_count": null,
      "outputs": [
        {
          "output_type": "execute_result",
          "data": {
            "text/plain": [
              "6    143.73\n",
              "5    145.83\n",
              "4    143.68\n",
              "3    144.02\n",
              "2    143.50\n",
              "1    142.62\n",
              "dtype: float64"
            ]
          },
          "metadata": {},
          "execution_count": 22
        }
      ]
    },
    {
      "cell_type": "markdown",
      "metadata": {
        "id": "6cGNQZwLfxIz"
      },
      "source": [
        "Series is like a list since it can be sliced by index:"
      ]
    },
    {
      "cell_type": "code",
      "metadata": {
        "colab": {
          "base_uri": "https://localhost:8080/"
        },
        "id": "N9bBSg6cO58l",
        "outputId": "a260b45e-5590-408c-9bdd-e2bd068d808c"
      },
      "source": [
        "print(s[1:]) # Al igual que la lista, también se pueden mostrar los valores de la serie a partir de cierto índice\n",
        "print(s[:-2]) # Muestra los valores de la serie excepto los dos últimos"
      ],
      "execution_count": null,
      "outputs": [
        {
          "output_type": "stream",
          "name": "stdout",
          "text": [
            "5    145.83\n",
            "4    143.68\n",
            "3    144.02\n",
            "2    143.50\n",
            "1    142.62\n",
            "dtype: float64\n",
            "6    143.73\n",
            "5    145.83\n",
            "4    143.68\n",
            "3    144.02\n",
            "dtype: float64\n"
          ]
        }
      ]
    },
    {
      "cell_type": "markdown",
      "metadata": {
        "id": "5V25nViZfz3Z"
      },
      "source": [
        "Series is also like a dictionary whose values can be set or fetched by index label:"
      ]
    },
    {
      "cell_type": "code",
      "metadata": {
        "colab": {
          "base_uri": "https://localhost:8080/"
        },
        "id": "b3Y0kKGYO58l",
        "outputId": "c5e39278-6a3e-487a-a1a5-43c1823a7486"
      },
      "source": [
        "print(s[3]) # Imprime el valor de la serie que está el la posición 3\n",
        "s[5] = 1000 # Modifica el valor de que está en la posición 5\n",
        "print(s)"
      ],
      "execution_count": null,
      "outputs": [
        {
          "output_type": "stream",
          "name": "stdout",
          "text": [
            "144.02\n",
            "6     143.73\n",
            "5    1000.00\n",
            "4     143.68\n",
            "3     144.02\n",
            "2     143.50\n",
            "1     142.62\n",
            "dtype: float64\n"
          ]
        }
      ]
    },
    {
      "cell_type": "markdown",
      "metadata": {
        "id": "RQ1P7Gkyf060"
      },
      "source": [
        "Series can also have a name attribute, which will be used when we make up a Pandas DataFrame using several series."
      ]
    },
    {
      "cell_type": "code",
      "metadata": {
        "colab": {
          "base_uri": "https://localhost:8080/"
        },
        "id": "ZeD4-p7KO58m",
        "outputId": "dc6d4d0d-85af-4310-a417-a4d80309b00a"
      },
      "source": [
        "s = pd.Series(price, name = 'Apple Price List :D') # Añade un atributo llamado 'name' a la serie\n",
        "print(s)\n",
        "print(s.name) # Imprime el atributo 'name' que fue añadido antes"
      ],
      "execution_count": null,
      "outputs": [
        {
          "output_type": "stream",
          "name": "stdout",
          "text": [
            "0    143.73\n",
            "1    145.83\n",
            "2    143.68\n",
            "3    144.02\n",
            "4    143.50\n",
            "5    142.62\n",
            "Name: Apple Price List :D, dtype: float64\n",
            "Apple Price List :D\n"
          ]
        }
      ]
    },
    {
      "cell_type": "markdown",
      "metadata": {
        "id": "geJb1pGHf5Et"
      },
      "source": [
        "We can get the statistical summaries of a Series:"
      ]
    },
    {
      "cell_type": "code",
      "metadata": {
        "colab": {
          "base_uri": "https://localhost:8080/"
        },
        "id": "mGPtFcjegm4i",
        "outputId": "3017283c-e194-4b42-c77f-b52656e2c9a8"
      },
      "source": [
        "print(s.describe()) # Muestra un resumen estadístico de la serie"
      ],
      "execution_count": null,
      "outputs": [
        {
          "output_type": "stream",
          "name": "stdout",
          "text": [
            "count      6.000000\n",
            "mean     143.896667\n",
            "std        1.059711\n",
            "min      142.620000\n",
            "25%      143.545000\n",
            "50%      143.705000\n",
            "75%      143.947500\n",
            "max      145.830000\n",
            "Name: Apple Price List :D, dtype: float64\n"
          ]
        }
      ]
    },
    {
      "cell_type": "markdown",
      "metadata": {
        "id": "LkdZu-CDgvlR"
      },
      "source": [
        "## Time Index\n",
        "Pandas has a built-in function specifically for creating date indices: pd.date_range(). We use it to create a new index for our Series:"
      ]
    },
    {
      "cell_type": "code",
      "metadata": {
        "colab": {
          "base_uri": "https://localhost:8080/"
        },
        "id": "HJe5hU4zO58m",
        "outputId": "4d83438f-e141-4a78-df21-3381f4c66948"
      },
      "source": [
        "time_index = pd.date_range('2021-10-30',periods = len(s),freq = 'D') # Aumenta el valor de la fecha dada de forma diaria\n",
        "print(time_index)\n",
        "s.index = time_index # Las fechas pasan a ser los índices de la serie\n",
        "print(s)"
      ],
      "execution_count": null,
      "outputs": [
        {
          "output_type": "stream",
          "name": "stdout",
          "text": [
            "DatetimeIndex(['2021-10-30', '2021-10-31', '2021-11-01', '2021-11-02',\n",
            "               '2021-11-03', '2021-11-04'],\n",
            "              dtype='datetime64[ns]', freq='D')\n",
            "2021-10-30    143.73\n",
            "2021-10-31    145.83\n",
            "2021-11-01    143.68\n",
            "2021-11-02    144.02\n",
            "2021-11-03    143.50\n",
            "2021-11-04    142.62\n",
            "Freq: D, Name: Apple Price List :D, dtype: float64\n"
          ]
        }
      ]
    },
    {
      "cell_type": "markdown",
      "metadata": {
        "id": "7WedejFZg19J"
      },
      "source": [
        "Series are usually accessed using the iloc[] and loc[] methods. iloc[] is used to access elements by integer index, and loc[] is used to access the index of the series.\n",
        "\n",
        "iloc[] is necessary when the index of a series are integers, take our previous defined series as example:"
      ]
    },
    {
      "cell_type": "code",
      "metadata": {
        "colab": {
          "base_uri": "https://localhost:8080/"
        },
        "id": "KrVSOyMvO58m",
        "outputId": "405ca190-402d-4849-9f07-4f36cf2b0432"
      },
      "source": [
        "s.index = [6,5,4,3,2,1]\n",
        "print(s)\n",
        "print(s[1])"
      ],
      "execution_count": null,
      "outputs": [
        {
          "output_type": "stream",
          "name": "stdout",
          "text": [
            "6    143.73\n",
            "5    145.83\n",
            "4    143.68\n",
            "3    144.02\n",
            "2    143.50\n",
            "1    142.62\n",
            "Name: Apple Price List :D, dtype: float64\n",
            "142.62\n"
          ]
        }
      ]
    },
    {
      "cell_type": "markdown",
      "metadata": {
        "id": "r30VKPtpg61p"
      },
      "source": [
        "If we intended to take the second element of the series, we would make a mistake here, because the index are integers. In order to access to the element we want, we use iloc[] here:"
      ]
    },
    {
      "cell_type": "code",
      "metadata": {
        "colab": {
          "base_uri": "https://localhost:8080/"
        },
        "id": "bHukfaAmO58m",
        "outputId": "dff4f6b2-4d79-4fa4-a77e-09c80ee0effc"
      },
      "source": [
        "print(s.iloc[5]) # Como se puso que los índices fueran números (ordenados de forma descendente), al momento de intentar acceder a cierta posición obtendriamos un valor incorrecto\n",
        "print(s[5]) # Muestra el número cuyo indice asociado es '5' a fin de realizar la comparativa con el valor obtenido con iloc()"
      ],
      "execution_count": null,
      "outputs": [
        {
          "output_type": "stream",
          "name": "stdout",
          "text": [
            "142.62\n",
            "145.83\n"
          ]
        }
      ]
    },
    {
      "cell_type": "markdown",
      "metadata": {
        "id": "kHVBRL_Rg84j"
      },
      "source": [
        "While working with time series data, we often use time as the index. Pandas provides us with various methods to access the data by time index"
      ]
    },
    {
      "cell_type": "code",
      "metadata": {
        "colab": {
          "base_uri": "https://localhost:8080/"
        },
        "id": "FCf8Hg7jO58n",
        "outputId": "2ff1c6bc-91ba-4311-9987-7a38928048e0"
      },
      "source": [
        "s.index = time_index\n",
        "print(s['2021-10-30']) # Se obtiene el valor de la serie asociado a la fecha dada"
      ],
      "execution_count": null,
      "outputs": [
        {
          "output_type": "stream",
          "name": "stdout",
          "text": [
            "143.73\n"
          ]
        }
      ]
    },
    {
      "cell_type": "markdown",
      "metadata": {
        "id": "XJXcrSFpg-To"
      },
      "source": [
        "We can even access to a range of dates:"
      ]
    },
    {
      "cell_type": "code",
      "metadata": {
        "colab": {
          "base_uri": "https://localhost:8080/"
        },
        "id": "NsE-Lr_9O58n",
        "outputId": "1b51f98c-eabd-4105-ba19-30902f36213b"
      },
      "source": [
        "print(s['2021-10-31':'2021-11-03']) # Se obienen los valores de la serie dentro de un intervalo de fechas"
      ],
      "execution_count": null,
      "outputs": [
        {
          "output_type": "stream",
          "name": "stdout",
          "text": [
            "2021-10-31    145.83\n",
            "2021-11-01    143.68\n",
            "2021-11-02    144.02\n",
            "2021-11-03    143.50\n",
            "Freq: D, Name: Apple Price List :D, dtype: float64\n"
          ]
        }
      ]
    },
    {
      "cell_type": "markdown",
      "metadata": {
        "id": "cWA3NCXEhCLB"
      },
      "source": [
        "Series[] provides us a very flexible way to index data. We can add any condition in the square brackets:"
      ]
    },
    {
      "cell_type": "code",
      "metadata": {
        "colab": {
          "base_uri": "https://localhost:8080/"
        },
        "id": "aawbrg2EO58n",
        "outputId": "f55d9c7b-4400-4f95-a707-fdcdd0b5faaa"
      },
      "source": [
        "print(s[s > np.mean(s)] ) # Muestra los valores que son menores a la media de la serie\n",
        "print([(s > np.mean(s)) & (s < np.mean(s) + 1.64*np.std(s))]) # Muestra si el valor es mayor a la media y menor que la media + 1.64*la desviación estándar"
      ],
      "execution_count": null,
      "outputs": [
        {
          "output_type": "stream",
          "name": "stdout",
          "text": [
            "2021-10-31    145.83\n",
            "2021-11-02    144.02\n",
            "Name: Apple Price List :D, dtype: float64\n",
            "[2021-10-30    False\n",
            "2021-10-31    False\n",
            "2021-11-01    False\n",
            "2021-11-02     True\n",
            "2021-11-03    False\n",
            "2021-11-04    False\n",
            "Freq: D, Name: Apple Price List :D, dtype: bool]\n"
          ]
        }
      ]
    },
    {
      "cell_type": "markdown",
      "metadata": {
        "id": "jAByChIwhEuI"
      },
      "source": [
        "As demonstrated, we can use logical operators like & (and), | (or) and ~ (not) to group multiple conditions.\n",
        "\n",
        "# Summary\n",
        "Here we have introduced NumPy and Pandas for scientific computing in Python. In the next chapter, we will dive into Pandas to learn resampling and manipulating Pandas DataFrame, which are commonly used in financial data analysis."
      ]
    },
    {
      "cell_type": "markdown",
      "metadata": {
        "id": "OtjOpw6oJp6z"
      },
      "source": [
        "<div align=\"center\">\n",
        "<img style=\"display: block; margin: auto;\" alt=\"photo\" src=\"https://cdn.quantconnect.com/web/i/icon.png\"> <img style=\"display: block; margin: auto;\" alt=\"photo\" src=\"https://www.marketing-branding.com/wp-content/uploads/2020/07/google-colaboratory-colab-guia-completa.jpg \" width=\"50\" height=\"50\">\n",
        "<img style=\"display: block; margin: auto;\" alt=\"photo\" src=\"https://upload.wikimedia.org/wikipedia/commons/d/da/Yahoo_Finance_Logo_2019.svg\" width=\"50\" height=\"50\">  \n",
        "\n",
        "Quantconnect -> Google Colab with Yahoo Finance data\n",
        "\n",
        "Introduction to Financial Python\n",
        "</div>\n",
        "\n",
        "# 05 Pandas-Resampling and DataFrame\n",
        "\n",
        "# Introduction\n",
        "In the last chapter we had a glimpse of Pandas. In this chapter we will learn about resampling methods and the DataFrame object, which is a powerful tool for financial data analysis.\n",
        "\n",
        "# Fetching Data\n",
        "Here we use the Yahoo Finance to retrieve data.\n"
      ]
    },
    {
      "cell_type": "code",
      "metadata": {
        "colab": {
          "base_uri": "https://localhost:8080/"
        },
        "id": "luU8mZTsHW9x",
        "outputId": "5dfec6d4-5a85-4368-b290-203ccf854625"
      },
      "source": [
        "!pip install yfinance"
      ],
      "execution_count": null,
      "outputs": [
        {
          "output_type": "stream",
          "name": "stdout",
          "text": [
            "Collecting yfinance\n",
            "  Downloading yfinance-0.1.64.tar.gz (26 kB)\n",
            "Requirement already satisfied: pandas>=0.24 in /usr/local/lib/python3.7/dist-packages (from yfinance) (1.1.5)\n",
            "Requirement already satisfied: numpy>=1.15 in /usr/local/lib/python3.7/dist-packages (from yfinance) (1.19.5)\n",
            "Requirement already satisfied: requests>=2.20 in /usr/local/lib/python3.7/dist-packages (from yfinance) (2.23.0)\n",
            "Requirement already satisfied: multitasking>=0.0.7 in /usr/local/lib/python3.7/dist-packages (from yfinance) (0.0.9)\n",
            "Collecting lxml>=4.5.1\n",
            "  Downloading lxml-4.6.3-cp37-cp37m-manylinux2014_x86_64.whl (6.3 MB)\n",
            "\u001b[K     |████████████████████████████████| 6.3 MB 6.1 MB/s \n",
            "\u001b[?25hRequirement already satisfied: python-dateutil>=2.7.3 in /usr/local/lib/python3.7/dist-packages (from pandas>=0.24->yfinance) (2.8.2)\n",
            "Requirement already satisfied: pytz>=2017.2 in /usr/local/lib/python3.7/dist-packages (from pandas>=0.24->yfinance) (2018.9)\n",
            "Requirement already satisfied: six>=1.5 in /usr/local/lib/python3.7/dist-packages (from python-dateutil>=2.7.3->pandas>=0.24->yfinance) (1.15.0)\n",
            "Requirement already satisfied: idna<3,>=2.5 in /usr/local/lib/python3.7/dist-packages (from requests>=2.20->yfinance) (2.10)\n",
            "Requirement already satisfied: certifi>=2017.4.17 in /usr/local/lib/python3.7/dist-packages (from requests>=2.20->yfinance) (2021.5.30)\n",
            "Requirement already satisfied: urllib3!=1.25.0,!=1.25.1,<1.26,>=1.21.1 in /usr/local/lib/python3.7/dist-packages (from requests>=2.20->yfinance) (1.24.3)\n",
            "Requirement already satisfied: chardet<4,>=3.0.2 in /usr/local/lib/python3.7/dist-packages (from requests>=2.20->yfinance) (3.0.4)\n",
            "Building wheels for collected packages: yfinance\n",
            "  Building wheel for yfinance (setup.py) ... \u001b[?25l\u001b[?25hdone\n",
            "  Created wheel for yfinance: filename=yfinance-0.1.64-py2.py3-none-any.whl size=24109 sha256=4964c52b534f7f2caf0ebc1366b56a05a7ebe9c62c682557574287a26284cda2\n",
            "  Stored in directory: /root/.cache/pip/wheels/86/fe/9b/a4d3d78796b699e37065e5b6c27b75cff448ddb8b24943c288\n",
            "Successfully built yfinance\n",
            "Installing collected packages: lxml, yfinance\n",
            "  Attempting uninstall: lxml\n",
            "    Found existing installation: lxml 4.2.6\n",
            "    Uninstalling lxml-4.2.6:\n",
            "      Successfully uninstalled lxml-4.2.6\n",
            "Successfully installed lxml-4.6.3 yfinance-0.1.64\n"
          ]
        }
      ]
    },
    {
      "cell_type": "code",
      "metadata": {
        "colab": {
          "base_uri": "https://localhost:8080/",
          "height": 492
        },
        "id": "mWZ-nirTZHrE",
        "outputId": "ea517d88-bbbc-4752-8911-1aa0da396110"
      },
      "source": [
        "import yfinance as yf\n",
        "\n",
        "aapl = yf.Ticker(\"AAPL\") # Obtiene la información financiera de Apple\n",
        "\n",
        "# get stock info\n",
        "print(aapl.info) # Obtiene la información de las acciones de Apple\n",
        "\n",
        "# get historical market data\n",
        "aapl_table = aapl.history(start=\"2020-01-01\",  end=\"2021-09-30\") # Muestra un histórico de las acciones y demás información durante un intervalor de fechas\n",
        "aapl_table"
      ],
      "execution_count": null,
      "outputs": [
        {
          "output_type": "stream",
          "name": "stdout",
          "text": [
            "{'zip': '95014', 'sector': 'Technology', 'fullTimeEmployees': 154000, 'longBusinessSummary': 'Apple Inc. designs, manufactures, and markets smartphones, personal computers, tablets, wearables, and accessories worldwide. It also sells various related services. In addition, the company offers iPhone, a line of smartphones; Mac, a line of personal computers; iPad, a line of multi-purpose tablets; AirPods Max, an over-ear wireless headphone; and wearables, home, and accessories comprising AirPods, Apple TV, Apple Watch, Beats products, HomePod, and iPod touch. Further, it provides AppleCare support services; cloud services store services; and operates various platforms, including the App Store that allow customers to discover and download applications and digital content, such as books, music, video, games, and podcasts. Additionally, the company offers various services, such as Apple Arcade, a game subscription service; Apple Music, which offers users a curated listening experience with on-demand radio stations; Apple News+, a subscription news and magazine service; Apple TV+, which offers exclusive original content; Apple Card, a co-branded credit card; and Apple Pay, a cashless payment service, as well as licenses its intellectual property. The company serves consumers, and small and mid-sized businesses; and the education, enterprise, and government markets. It distributes third-party applications for its products through the App Store. The company also sells its products through its retail and online stores, and direct sales force; and third-party cellular network carriers, wholesalers, retailers, and resellers. Apple Inc. was incorporated in 1977 and is headquartered in Cupertino, California.', 'city': 'Cupertino', 'phone': '408 996 1010', 'state': 'CA', 'country': 'United States', 'companyOfficers': [], 'website': 'http://www.apple.com', 'maxAge': 1, 'address1': 'One Apple Park Way', 'industry': 'Consumer Electronics', 'ebitdaMargins': 0.32867, 'profitMargins': 0.25882, 'grossMargins': 0.41779, 'operatingCashflow': 104037998592, 'revenueGrowth': 0.288, 'operatingMargins': 0.29782, 'ebitda': 120233000960, 'targetLowPrice': 132, 'recommendationKey': 'buy', 'grossProfits': 152836000000, 'freeCashflow': 73295003648, 'targetMedianPrice': 170, 'currentPrice': 149.8, 'earningsGrowth': 0.662, 'currentRatio': 1.075, 'returnOnAssets': 0.20179, 'numberOfAnalystOpinions': 40, 'targetMeanPrice': 168.84, 'debtToEquity': 216.392, 'returnOnEquity': 1.47443, 'targetHighPrice': 190, 'totalCash': 62639001600, 'totalDebt': 136521998336, 'totalRevenue': 365817004032, 'totalCashPerShare': 3.818, 'financialCurrency': 'USD', 'revenuePerShare': 21.904, 'quickRatio': 0.91, 'recommendationMean': 1.9, 'exchange': 'NMS', 'shortName': 'Apple Inc.', 'longName': 'Apple Inc.', 'exchangeTimezoneName': 'America/New_York', 'exchangeTimezoneShortName': 'EDT', 'isEsgPopulated': False, 'gmtOffSetMilliseconds': '-14400000', 'quoteType': 'EQUITY', 'symbol': 'AAPL', 'messageBoardId': 'finmb_24937', 'market': 'us_market', 'annualHoldingsTurnover': None, 'enterpriseToRevenue': 6.92, 'beta3Year': None, 'enterpriseToEbitda': 21.055, '52WeekChange': 0.377218, 'morningStarRiskRating': None, 'forwardEps': 5.98, 'revenueQuarterlyGrowth': None, 'sharesOutstanding': 16530199552, 'fundInceptionDate': None, 'annualReportExpenseRatio': None, 'totalAssets': None, 'bookValue': 3.841, 'sharesShort': 100881318, 'sharesPercentSharesOut': 0.0061000003, 'fundFamily': None, 'lastFiscalYearEnd': 1632528000, 'heldPercentInstitutions': 0.58625, 'netIncomeToCommon': 94679998464, 'trailingEps': 5.61, 'lastDividendValue': 0.22, 'SandP52WeekChange': 0.39125264, 'priceToBook': 39.00026, 'heldPercentInsiders': 0.00071999995, 'nextFiscalYearEnd': 1695600000, 'yield': None, 'mostRecentQuarter': 1632528000, 'shortRatio': 1.25, 'sharesShortPreviousMonthDate': 1631664000, 'floatShares': 16389498411, 'beta': 1.222222, 'enterpriseValue': 2531561308160, 'priceHint': 2, 'threeYearAverageReturn': None, 'lastSplitDate': 1598832000, 'lastSplitFactor': '4:1', 'legalType': None, 'lastDividendDate': 1628208000, 'morningStarOverallRating': None, 'earningsQuarterlyGrowth': 0.622, 'priceToSalesTrailing12Months': 6.769024, 'dateShortInterest': 1634256000, 'pegRatio': 1.35, 'ytdReturn': None, 'forwardPE': 25.050167, 'lastCapGain': None, 'shortPercentOfFloat': 0.0061000003, 'sharesShortPriorMonth': 100926641, 'impliedSharesOutstanding': None, 'category': None, 'fiveYearAverageReturn': None, 'previousClose': 152.57, 'regularMarketOpen': 147.215, 'twoHundredDayAverage': 140.07079, 'trailingAnnualDividendYield': 0.005571213, 'payoutRatio': 0.16309999, 'volume24Hr': None, 'regularMarketDayHigh': 149.935, 'navPrice': None, 'averageDailyVolume10Day': 73271114, 'regularMarketPreviousClose': 152.57, 'fiftyDayAverage': 145.59914, 'trailingAnnualDividendRate': 0.85, 'open': 147.215, 'toCurrency': None, 'averageVolume10days': 73271114, 'expireDate': None, 'algorithm': None, 'dividendRate': 0.88, 'exDividendDate': 1628208000, 'circulatingSupply': None, 'startDate': None, 'regularMarketDayLow': 146.4128, 'currency': 'USD', 'trailingPE': 26.702316, 'regularMarketVolume': 124953168, 'lastMarket': None, 'maxSupply': None, 'openInterest': None, 'marketCap': 2476224020480, 'volumeAllCurrencies': None, 'strikePrice': None, 'averageVolume': 75359889, 'dayLow': 146.4128, 'ask': 149.93, 'askSize': 1100, 'volume': 124953168, 'fiftyTwoWeekHigh': 157.26, 'fromCurrency': None, 'fiveYearAvgDividendYield': 1.22, 'fiftyTwoWeekLow': 107.32, 'bid': 149.91, 'tradeable': False, 'dividendYield': 0.0058999998, 'bidSize': 1100, 'dayHigh': 149.935, 'regularMarketPrice': 149.8, 'preMarketPrice': None, 'logo_url': 'https://logo.clearbit.com/apple.com'}\n"
          ]
        },
        {
          "output_type": "execute_result",
          "data": {
            "text/html": [
              "<div>\n",
              "<style scoped>\n",
              "    .dataframe tbody tr th:only-of-type {\n",
              "        vertical-align: middle;\n",
              "    }\n",
              "\n",
              "    .dataframe tbody tr th {\n",
              "        vertical-align: top;\n",
              "    }\n",
              "\n",
              "    .dataframe thead th {\n",
              "        text-align: right;\n",
              "    }\n",
              "</style>\n",
              "<table border=\"1\" class=\"dataframe\">\n",
              "  <thead>\n",
              "    <tr style=\"text-align: right;\">\n",
              "      <th></th>\n",
              "      <th>Open</th>\n",
              "      <th>High</th>\n",
              "      <th>Low</th>\n",
              "      <th>Close</th>\n",
              "      <th>Volume</th>\n",
              "      <th>Dividends</th>\n",
              "      <th>Stock Splits</th>\n",
              "    </tr>\n",
              "    <tr>\n",
              "      <th>Date</th>\n",
              "      <th></th>\n",
              "      <th></th>\n",
              "      <th></th>\n",
              "      <th></th>\n",
              "      <th></th>\n",
              "      <th></th>\n",
              "      <th></th>\n",
              "    </tr>\n",
              "  </thead>\n",
              "  <tbody>\n",
              "    <tr>\n",
              "      <th>2020-01-02</th>\n",
              "      <td>73.082524</td>\n",
              "      <td>74.158141</td>\n",
              "      <td>72.823491</td>\n",
              "      <td>74.096466</td>\n",
              "      <td>135480400</td>\n",
              "      <td>0.0</td>\n",
              "      <td>0.0</td>\n",
              "    </tr>\n",
              "    <tr>\n",
              "      <th>2020-01-03</th>\n",
              "      <td>73.307008</td>\n",
              "      <td>74.153188</td>\n",
              "      <td>73.146654</td>\n",
              "      <td>73.376083</td>\n",
              "      <td>146322800</td>\n",
              "      <td>0.0</td>\n",
              "      <td>0.0</td>\n",
              "    </tr>\n",
              "    <tr>\n",
              "      <th>2020-01-06</th>\n",
              "      <td>72.478106</td>\n",
              "      <td>74.000243</td>\n",
              "      <td>72.221535</td>\n",
              "      <td>73.960770</td>\n",
              "      <td>118387200</td>\n",
              "      <td>0.0</td>\n",
              "      <td>0.0</td>\n",
              "    </tr>\n",
              "    <tr>\n",
              "      <th>2020-01-07</th>\n",
              "      <td>73.970634</td>\n",
              "      <td>74.232135</td>\n",
              "      <td>73.388424</td>\n",
              "      <td>73.612923</td>\n",
              "      <td>108872000</td>\n",
              "      <td>0.0</td>\n",
              "      <td>0.0</td>\n",
              "    </tr>\n",
              "    <tr>\n",
              "      <th>2020-01-08</th>\n",
              "      <td>73.309478</td>\n",
              "      <td>75.105456</td>\n",
              "      <td>73.309478</td>\n",
              "      <td>74.797081</td>\n",
              "      <td>132079200</td>\n",
              "      <td>0.0</td>\n",
              "      <td>0.0</td>\n",
              "    </tr>\n",
              "    <tr>\n",
              "      <th>...</th>\n",
              "      <td>...</td>\n",
              "      <td>...</td>\n",
              "      <td>...</td>\n",
              "      <td>...</td>\n",
              "      <td>...</td>\n",
              "      <td>...</td>\n",
              "      <td>...</td>\n",
              "    </tr>\n",
              "    <tr>\n",
              "      <th>2021-09-23</th>\n",
              "      <td>146.649994</td>\n",
              "      <td>147.080002</td>\n",
              "      <td>145.639999</td>\n",
              "      <td>146.830002</td>\n",
              "      <td>64838200</td>\n",
              "      <td>0.0</td>\n",
              "      <td>0.0</td>\n",
              "    </tr>\n",
              "    <tr>\n",
              "      <th>2021-09-24</th>\n",
              "      <td>145.660004</td>\n",
              "      <td>147.470001</td>\n",
              "      <td>145.559998</td>\n",
              "      <td>146.919998</td>\n",
              "      <td>53477900</td>\n",
              "      <td>0.0</td>\n",
              "      <td>0.0</td>\n",
              "    </tr>\n",
              "    <tr>\n",
              "      <th>2021-09-27</th>\n",
              "      <td>145.470001</td>\n",
              "      <td>145.960007</td>\n",
              "      <td>143.820007</td>\n",
              "      <td>145.369995</td>\n",
              "      <td>74150700</td>\n",
              "      <td>0.0</td>\n",
              "      <td>0.0</td>\n",
              "    </tr>\n",
              "    <tr>\n",
              "      <th>2021-09-28</th>\n",
              "      <td>143.250000</td>\n",
              "      <td>144.750000</td>\n",
              "      <td>141.690002</td>\n",
              "      <td>141.910004</td>\n",
              "      <td>108972300</td>\n",
              "      <td>0.0</td>\n",
              "      <td>0.0</td>\n",
              "    </tr>\n",
              "    <tr>\n",
              "      <th>2021-09-29</th>\n",
              "      <td>142.470001</td>\n",
              "      <td>144.449997</td>\n",
              "      <td>142.029999</td>\n",
              "      <td>142.830002</td>\n",
              "      <td>74602000</td>\n",
              "      <td>0.0</td>\n",
              "      <td>0.0</td>\n",
              "    </tr>\n",
              "  </tbody>\n",
              "</table>\n",
              "<p>440 rows × 7 columns</p>\n",
              "</div>"
            ],
            "text/plain": [
              "                  Open        High  ...  Dividends  Stock Splits\n",
              "Date                                ...                         \n",
              "2020-01-02   73.082524   74.158141  ...        0.0           0.0\n",
              "2020-01-03   73.307008   74.153188  ...        0.0           0.0\n",
              "2020-01-06   72.478106   74.000243  ...        0.0           0.0\n",
              "2020-01-07   73.970634   74.232135  ...        0.0           0.0\n",
              "2020-01-08   73.309478   75.105456  ...        0.0           0.0\n",
              "...                ...         ...  ...        ...           ...\n",
              "2021-09-23  146.649994  147.080002  ...        0.0           0.0\n",
              "2021-09-24  145.660004  147.470001  ...        0.0           0.0\n",
              "2021-09-27  145.470001  145.960007  ...        0.0           0.0\n",
              "2021-09-28  143.250000  144.750000  ...        0.0           0.0\n",
              "2021-09-29  142.470001  144.449997  ...        0.0           0.0\n",
              "\n",
              "[440 rows x 7 columns]"
            ]
          },
          "metadata": {},
          "execution_count": 5
        }
      ]
    },
    {
      "cell_type": "markdown",
      "metadata": {
        "id": "NkFztSYhJyVA"
      },
      "source": [
        "We will create a Series named \"aapl\" whose values are Apple's daily closing prices, which are of course indexed by dates:"
      ]
    },
    {
      "cell_type": "code",
      "metadata": {
        "id": "QDJbOpCeHW91"
      },
      "source": [
        "aapl = aapl_table['Close']['2020'] # Muestra los valores diarios de las acciones de Apple"
      ],
      "execution_count": null,
      "outputs": []
    },
    {
      "cell_type": "code",
      "metadata": {
        "colab": {
          "base_uri": "https://localhost:8080/"
        },
        "id": "SXfgCQJOHW91",
        "outputId": "4d5b0ffc-b648-495e-f899-6ee8e80fc7ee"
      },
      "source": [
        "print(aapl)"
      ],
      "execution_count": null,
      "outputs": [
        {
          "output_type": "stream",
          "name": "stdout",
          "text": [
            "Date\n",
            "2020-01-02     74.096466\n",
            "2020-01-03     73.376083\n",
            "2020-01-06     73.960770\n",
            "2020-01-07     73.612923\n",
            "2020-01-08     74.797081\n",
            "                 ...    \n",
            "2020-12-24    131.352844\n",
            "2020-12-28    136.050781\n",
            "2020-12-29    134.239273\n",
            "2020-12-30    133.094666\n",
            "2020-12-31    132.069473\n",
            "Name: Close, Length: 253, dtype: float64\n"
          ]
        }
      ]
    },
    {
      "cell_type": "markdown",
      "metadata": {
        "id": "waUEgBhzKEcA"
      },
      "source": [
        "Recall that we can fetch a specific data point using series['yyyy-mm-dd']. We can also fetch the data in a specific month using series['yyyy-mm']."
      ]
    },
    {
      "cell_type": "code",
      "metadata": {
        "colab": {
          "base_uri": "https://localhost:8080/"
        },
        "id": "2gS50G0zHW92",
        "outputId": "ea4dc6de-5719-4686-d981-c0f5bc443a7f"
      },
      "source": [
        "print(aapl['2020-2']) # Muestra los valores de las acciones en un mes específico"
      ],
      "execution_count": null,
      "outputs": [
        {
          "output_type": "stream",
          "name": "stdout",
          "text": [
            "Date\n",
            "2020-02-03    76.146538\n",
            "2020-02-04    78.660416\n",
            "2020-02-05    79.301834\n",
            "2020-02-06    80.229416\n",
            "2020-02-07    79.138893\n",
            "2020-02-10    79.514763\n",
            "2020-02-11    79.035027\n",
            "2020-02-12    80.911934\n",
            "2020-02-13    80.335747\n",
            "2020-02-14    80.355537\n",
            "2020-02-18    78.884186\n",
            "2020-02-19    80.026649\n",
            "2020-02-20    79.205658\n",
            "2020-02-21    77.412827\n",
            "2020-02-24    73.735695\n",
            "2020-02-25    71.238098\n",
            "2020-02-26    72.368210\n",
            "2020-02-27    67.637619\n",
            "2020-02-28    67.598061\n",
            "Name: Close, dtype: float64\n"
          ]
        }
      ]
    },
    {
      "cell_type": "code",
      "metadata": {
        "colab": {
          "base_uri": "https://localhost:8080/"
        },
        "id": "vpvxGwXtHW92",
        "outputId": "360ec5a4-d57c-4037-ea4d-02ad8fc336ae"
      },
      "source": [
        "aapl['2020-2':'2020-4'] # Muestra los valores de las acciones durante el periodo de tiempo dado, en este caso meses"
      ],
      "execution_count": null,
      "outputs": [
        {
          "output_type": "execute_result",
          "data": {
            "text/plain": [
              "Date\n",
              "2020-02-03    76.146538\n",
              "2020-02-04    78.660416\n",
              "2020-02-05    79.301834\n",
              "2020-02-06    80.229416\n",
              "2020-02-07    79.138893\n",
              "                ...    \n",
              "2020-04-24    69.974464\n",
              "2020-04-27    70.023949\n",
              "2020-04-28    68.888893\n",
              "2020-04-29    71.151558\n",
              "2020-04-30    72.652580\n",
              "Name: Close, Length: 62, dtype: float64"
            ]
          },
          "metadata": {},
          "execution_count": 9
        }
      ]
    },
    {
      "cell_type": "markdown",
      "metadata": {
        "id": "lWwoD39pKNKb"
      },
      "source": [
        ".head(N) and .tail(N) are methods for quickly accessing the first or last N elements."
      ]
    },
    {
      "cell_type": "code",
      "metadata": {
        "colab": {
          "base_uri": "https://localhost:8080/"
        },
        "id": "1eU218ALHW93",
        "outputId": "6e738583-e830-47f7-94e8-d4b8815cb785"
      },
      "source": [
        "print(aapl.head(10)) # Muestra los 10 primeros datos de la serie, en este caso, de los 10 primeros días del año\n",
        "print(aapl.tail(10)) # Muestra los 10 últimos datos de la serie, en este caso, de los 10 últimos días del año"
      ],
      "execution_count": null,
      "outputs": [
        {
          "output_type": "stream",
          "name": "stdout",
          "text": [
            "Date\n",
            "2020-01-02    74.096466\n",
            "2020-01-03    73.376083\n",
            "2020-01-06    73.960770\n",
            "2020-01-07    73.612923\n",
            "2020-01-08    74.797081\n",
            "2020-01-09    76.385841\n",
            "2020-01-10    76.558517\n",
            "2020-01-13    78.194138\n",
            "2020-01-14    77.138268\n",
            "2020-01-15    76.807693\n",
            "Name: Close, dtype: float64\n",
            "Date\n",
            "2020-12-17    128.098129\n",
            "2020-12-18    126.067680\n",
            "2020-12-21    127.630333\n",
            "2020-12-22    131.263260\n",
            "2020-12-23    130.347565\n",
            "2020-12-24    131.352844\n",
            "2020-12-28    136.050781\n",
            "2020-12-29    134.239273\n",
            "2020-12-30    133.094666\n",
            "2020-12-31    132.069473\n",
            "Name: Close, dtype: float64\n"
          ]
        }
      ]
    },
    {
      "cell_type": "markdown",
      "metadata": {
        "id": "IxhKxtj-KQ66"
      },
      "source": [
        "# Resampling\n",
        "**_series.resample(freq)_** is a class called \"DatetimeIndexResampler\" which groups data in a Series object into regular time intervals. The argument \"freq\" determines the length of each interval.\n",
        "\n",
        "**_series.resample.mean()_** is a complete statement that groups data into intervals, and then compute the mean of each interval. For example, if we want to aggregate the daily data into monthly data by mean:"
      ]
    },
    {
      "cell_type": "code",
      "metadata": {
        "colab": {
          "base_uri": "https://localhost:8080/"
        },
        "id": "rAV8NkHkHW93",
        "outputId": "24cf8879-3948-4143-d941-6e962e64a6a1"
      },
      "source": [
        "by_month = aapl.resample('M').mean() # Vuelve a remuestrar los datos según el intervalo dado, en este caso, el intervalo es de meses. \n",
        "                                     # Mostrando la media del precio de las acciones en cada mes del año\n",
        "print(by_month)"
      ],
      "execution_count": null,
      "outputs": [
        {
          "output_type": "stream",
          "name": "stdout",
          "text": [
            "Date\n",
            "2020-01-31     76.949838\n",
            "2020-02-29     76.933532\n",
            "2020-03-31     64.898713\n",
            "2020-04-30     67.357250\n",
            "2020-05-31     76.812860\n",
            "2020-06-30     85.744504\n",
            "2020-07-31     94.784615\n",
            "2020-08-31    116.512445\n",
            "2020-09-30    114.389503\n",
            "2020-10-31    115.669217\n",
            "2020-11-30    116.240820\n",
            "2020-12-31    126.695181\n",
            "Freq: M, Name: Close, dtype: float64\n"
          ]
        }
      ]
    },
    {
      "cell_type": "markdown",
      "metadata": {
        "id": "QDPfVzBEKV6Q"
      },
      "source": [
        "We can also aggregate the data by week:"
      ]
    },
    {
      "cell_type": "code",
      "metadata": {
        "colab": {
          "base_uri": "https://localhost:8080/"
        },
        "id": "aAP3tKkBHW94",
        "outputId": "695361fd-5e39-4776-ab5c-fcbe0d1c45b4"
      },
      "source": [
        "by_week = aapl.resample('W').mean() # Remuestrea los datos de forma semanal\n",
        "print(by_week.head(6)) # Muestra la media en los precios de las acciones en las primeras 6 semanas del año"
      ],
      "execution_count": null,
      "outputs": [
        {
          "output_type": "stream",
          "name": "stdout",
          "text": [
            "Date\n",
            "2020-01-05    73.736275\n",
            "2020-01-12    75.063026\n",
            "2020-01-19    77.708145\n",
            "2020-01-26    78.439001\n",
            "2020-02-02    78.172438\n",
            "2020-02-09    78.695419\n",
            "Freq: W-SUN, Name: Close, dtype: float64\n"
          ]
        }
      ]
    },
    {
      "cell_type": "markdown",
      "metadata": {
        "id": "o_MXSVsILoBS"
      },
      "source": [
        "We can also aggregate the data by month with max:"
      ]
    },
    {
      "cell_type": "code",
      "metadata": {
        "colab": {
          "base_uri": "https://localhost:8080/"
        },
        "id": "gn0wqXBTHW95",
        "outputId": "52b58e55-9b26-4f0e-81b1-acf0f39d97d2"
      },
      "source": [
        "aapl.resample('M').max() # Además de remuestrar los datos del precio de las acciones, muestra el valor máximo de esta en cada mes del año"
      ],
      "execution_count": null,
      "outputs": [
        {
          "output_type": "execute_result",
          "data": {
            "text/plain": [
              "Date\n",
              "2020-01-31     80.014793\n",
              "2020-02-29     80.911934\n",
              "2020-03-31     74.863319\n",
              "2020-04-30     72.652580\n",
              "2020-05-31     79.154755\n",
              "2020-06-30     90.883041\n",
              "2020-07-31    105.390907\n",
              "2020-08-31    128.215332\n",
              "2020-09-30    133.322495\n",
              "2020-10-31    123.604996\n",
              "2020-11-30    119.737419\n",
              "2020-12-31    136.050781\n",
              "Freq: M, Name: Close, dtype: float64"
            ]
          },
          "metadata": {},
          "execution_count": 13
        }
      ]
    },
    {
      "cell_type": "markdown",
      "metadata": {
        "id": "Z8r46UFlLdAh"
      },
      "source": [
        "We can choose almost any frequency by using the format 'nf', where 'n' is an integer and 'f' is M for month, W for week and D for day."
      ]
    },
    {
      "cell_type": "code",
      "metadata": {
        "colab": {
          "base_uri": "https://localhost:8080/"
        },
        "id": "kdVB_-JFHW96",
        "outputId": "266eeedf-4f86-43d3-deaa-cbb073de9d61"
      },
      "source": [
        "three_day = aapl.resample('3D').mean() # Muestra la media de los precios de las acciones en un intervalo de cada 3 días\n",
        "two_week = aapl.resample('2W').mean() # Muestra la media de los precios de las acciones en un intervalo de cada 2 semanas\n",
        "two_month = aapl.resample('2M').mean() # Muestra la media de los precios de las acciones en un intervalo de cada 2 meses\n",
        "\n",
        "\n",
        "print(three_day)\n",
        "print(two_week)\n",
        "print(two_month )"
      ],
      "execution_count": null,
      "outputs": [
        {
          "output_type": "stream",
          "name": "stdout",
          "text": [
            "Date\n",
            "2020-01-02     73.736275\n",
            "2020-01-05     73.786846\n",
            "2020-01-08     75.913813\n",
            "2020-01-11     78.194138\n",
            "2020-01-14     77.238594\n",
            "                 ...    \n",
            "2020-12-18    126.067680\n",
            "2020-12-21    129.747053\n",
            "2020-12-24    131.352844\n",
            "2020-12-27    135.145027\n",
            "2020-12-30    132.582069\n",
            "Freq: 3D, Name: Close, Length: 122, dtype: float64\n",
            "Date\n",
            "2020-01-05     73.736275\n",
            "2020-01-19     76.385586\n",
            "2020-02-02     78.290911\n",
            "2020-02-16     79.363010\n",
            "2020-03-01     74.234111\n",
            "2020-03-15     69.881996\n",
            "2020-03-29     60.305849\n",
            "2020-04-12     62.983980\n",
            "2020-04-26     69.082268\n",
            "2020-05-10     72.662711\n",
            "2020-05-24     77.718850\n",
            "2020-06-07     79.763347\n",
            "2020-06-21     85.621429\n",
            "2020-07-05     89.779913\n",
            "2020-07-19     94.893465\n",
            "2020-08-02     95.576089\n",
            "2020-08-16    111.076923\n",
            "2020-08-30    120.777678\n",
            "2020-09-13    120.567858\n",
            "2020-09-27    110.262808\n",
            "2020-10-11    114.399205\n",
            "2020-10-25    117.998057\n",
            "2020-11-08    113.183499\n",
            "2020-11-22    117.841325\n",
            "2020-12-06    118.518699\n",
            "2020-12-20    124.255190\n",
            "2021-01-03    132.006024\n",
            "Freq: 2W-SUN, Name: Close, dtype: float64\n",
            "Date\n",
            "2020-01-31     76.949838\n",
            "2020-03-31     70.475824\n",
            "2020-05-31     71.969743\n",
            "2020-07-31     90.264559\n",
            "2020-09-30    115.450974\n",
            "2020-11-30    115.941409\n",
            "2021-01-31    126.695181\n",
            "Freq: 2M, Name: Close, dtype: float64\n"
          ]
        }
      ]
    },
    {
      "cell_type": "markdown",
      "metadata": {
        "id": "iy4RqsnwL-Bw"
      },
      "source": [
        "Besides the mean() method, other methods can also be used with the resampler:\n",
        "\n"
      ]
    },
    {
      "cell_type": "code",
      "metadata": {
        "colab": {
          "base_uri": "https://localhost:8080/"
        },
        "id": "DNT8Fx9dHW96",
        "outputId": "33c15c1f-5f61-4122-d620-69b0b47ec56d"
      },
      "source": [
        "std = aapl.resample('M').std() # Muestra la desviación estándar de los precios de forma mensual\n",
        "max = aapl.resample('W').max() # Muestra el valor máximo del precio de forma semanal\n",
        "min = aapl.resample('W').min() # Muestra el valor mínimo del precio de forma semanal\n",
        "\n",
        "\n",
        "print(std)\n",
        "print(max)\n",
        "print(min)"
      ],
      "execution_count": null,
      "outputs": [
        {
          "output_type": "stream",
          "name": "stdout",
          "text": [
            "Date\n",
            "2020-01-31    2.016131\n",
            "2020-02-29    4.287998\n",
            "2020-03-31    5.647737\n",
            "2020-04-30    3.799528\n",
            "2020-05-31    2.301080\n",
            "2020-06-30    3.665461\n",
            "2020-07-31    3.134716\n",
            "2020-08-31    6.615103\n",
            "2020-09-30    6.942130\n",
            "2020-10-31    3.438472\n",
            "2020-11-30    3.093313\n",
            "2020-12-31    4.766074\n",
            "Freq: M, Name: Close, dtype: float64\n",
            "Date\n",
            "2020-01-05     74.096466\n",
            "2020-01-12     76.558517\n",
            "2020-01-19     78.630806\n",
            "2020-01-26     78.754166\n",
            "2020-02-02     80.014793\n",
            "2020-02-09     80.229416\n",
            "2020-02-16     80.911934\n",
            "2020-02-23     80.026649\n",
            "2020-03-01     73.735695\n",
            "2020-03-08     74.863319\n",
            "2020-03-15     70.560555\n",
            "2020-03-22     62.528706\n",
            "2020-03-29     63.908558\n",
            "2020-04-05     63.010906\n",
            "2020-04-12     66.270126\n",
            "2020-04-19     70.983398\n",
            "2020-04-26     69.974464\n",
            "2020-05-03     72.652580\n",
            "2020-05-10     76.898369\n",
            "2020-05-17     78.108391\n",
            "2020-05-24     79.154755\n",
            "2020-05-31     78.911758\n",
            "2020-06-07     82.197166\n",
            "2020-06-14     87.488525\n",
            "2020-06-21     87.300087\n",
            "2020-06-28     90.883041\n",
            "2020-07-05     90.454071\n",
            "2020-07-12     95.135460\n",
            "2020-07-19     96.925705\n",
            "2020-07-26     97.553032\n",
            "2020-08-02    105.390907\n",
            "2020-08-09    112.970894\n",
            "2020-08-16    114.275002\n",
            "2020-08-23    123.575188\n",
            "2020-08-30    125.713936\n",
            "2020-09-06    133.322495\n",
            "2020-09-13    116.570236\n",
            "2020-09-20    114.801613\n",
            "2020-09-27    111.562447\n",
            "2020-10-04    116.043633\n",
            "2020-10-11    116.222481\n",
            "2020-10-18    123.604996\n",
            "2020-10-25    116.759026\n",
            "2020-11-01    115.854843\n",
            "2020-11-08    118.269310\n",
            "2020-11-15    118.931206\n",
            "2020-11-22    119.737419\n",
            "2020-11-29    116.044762\n",
            "2020-12-06    122.504417\n",
            "2020-12-13    123.798332\n",
            "2020-12-20    128.098129\n",
            "2020-12-27    131.352844\n",
            "2021-01-03    136.050781\n",
            "Freq: W-SUN, Name: Close, dtype: float64\n",
            "Date\n",
            "2020-01-05     73.376083\n",
            "2020-01-12     73.612923\n",
            "2020-01-19     76.807693\n",
            "2020-01-26     78.097931\n",
            "2020-02-02     76.218079\n",
            "2020-02-09     76.146538\n",
            "2020-02-16     79.035027\n",
            "2020-02-23     77.412827\n",
            "2020-03-01     67.598061\n",
            "2020-03-08     71.473038\n",
            "2020-03-15     61.383770\n",
            "2020-03-22     56.687813\n",
            "2020-03-29     55.483524\n",
            "2020-04-05     59.573635\n",
            "2020-04-12     64.153366\n",
            "2020-04-19     67.570854\n",
            "2020-04-26     66.364105\n",
            "2020-05-03     68.888893\n",
            "2020-05-10     72.494324\n",
            "2020-05-17     76.283447\n",
            "2020-05-24     77.644714\n",
            "2020-05-31     78.534866\n",
            "2020-06-07     79.804398\n",
            "2020-06-14     82.683159\n",
            "2020-06-21     85.046165\n",
            "2020-06-28     87.684425\n",
            "2020-07-05     89.705254\n",
            "2020-07-12     92.410446\n",
            "2020-07-19     94.696587\n",
            "2020-07-26     91.857506\n",
            "2020-08-02     92.489784\n",
            "2020-08-09    108.046509\n",
            "2020-08-16    108.676010\n",
            "2020-08-23    113.875069\n",
            "2020-08-30    124.009895\n",
            "2020-09-06    120.107483\n",
            "2020-09-13    111.284241\n",
            "2020-09-20    106.157211\n",
            "2020-09-27    106.435432\n",
            "2020-10-04    112.297722\n",
            "2020-10-11    112.436829\n",
            "2020-10-18    118.259369\n",
            "2020-10-25    114.304810\n",
            "2020-11-01    108.164307\n",
            "2020-11-08    108.074883\n",
            "2020-11-15    115.427673\n",
            "2020-11-22    116.791252\n",
            "2020-11-29    113.317589\n",
            "2020-12-06    118.493263\n",
            "2020-12-13    121.210495\n",
            "2020-12-20    121.210495\n",
            "2020-12-27    127.630333\n",
            "2021-01-03    132.069473\n",
            "Freq: W-SUN, Name: Close, dtype: float64\n"
          ]
        }
      ]
    },
    {
      "cell_type": "markdown",
      "metadata": {
        "id": "uqln0s5DMI3I"
      },
      "source": [
        "Often we want to calculate monthly returns of a stock, based on prices on the last day of each month. To fetch those prices, we use the series.resample.agg() method:"
      ]
    },
    {
      "cell_type": "code",
      "metadata": {
        "colab": {
          "base_uri": "https://localhost:8080/"
        },
        "id": "A6FSYvqbHW97",
        "outputId": "6a5e9568-f1b7-485f-97b2-e2c555850a99"
      },
      "source": [
        "last_day = aapl.resample('M').agg(lambda x: x[-1]) # Muestra los precios de las acciones en el último día de cada mes\n",
        "print(last_day)"
      ],
      "execution_count": null,
      "outputs": [
        {
          "output_type": "stream",
          "name": "stdout",
          "text": [
            "Date\n",
            "2020-01-31     76.356232\n",
            "2020-02-29     67.598061\n",
            "2020-03-31     62.882317\n",
            "2020-04-30     72.652580\n",
            "2020-05-31     78.834900\n",
            "2020-06-30     90.454071\n",
            "2020-07-31    105.390907\n",
            "2020-08-31    128.215332\n",
            "2020-09-30    115.069885\n",
            "2020-10-31    108.164307\n",
            "2020-11-30    118.493263\n",
            "2020-12-31    132.069473\n",
            "Freq: M, Name: Close, dtype: float64\n"
          ]
        }
      ]
    },
    {
      "cell_type": "markdown",
      "metadata": {
        "id": "uwomY3aXMR46"
      },
      "source": [
        "Or directly calculate the monthly rates of return using the data for the first day and the last day:"
      ]
    },
    {
      "cell_type": "code",
      "metadata": {
        "colab": {
          "base_uri": "https://localhost:8080/"
        },
        "id": "qK2NMJrNHW96",
        "outputId": "88d6e32a-784d-448c-a62a-0ad03be779ae"
      },
      "source": [
        "monthly_return = aapl.resample('M').agg(lambda x: x[-1]/x[0] - 1) # Muestra el valor del precio del (primer día)/(último día) de cada mes\n",
        "print(monthly_return)"
      ],
      "execution_count": null,
      "outputs": [
        {
          "output_type": "stream",
          "name": "stdout",
          "text": [
            "Date\n",
            "2020-01-31    0.030498\n",
            "2020-02-29   -0.112264\n",
            "2020-03-31   -0.148991\n",
            "2020-04-30    0.219543\n",
            "2020-05-31    0.102849\n",
            "2020-06-30    0.133447\n",
            "2020-07-31    0.167340\n",
            "2020-08-31    0.186668\n",
            "2020-09-30   -0.136906\n",
            "2020-10-31   -0.067900\n",
            "2020-11-30    0.096400\n",
            "2020-12-31    0.081242\n",
            "Freq: M, Name: Close, dtype: float64\n"
          ]
        }
      ]
    },
    {
      "cell_type": "markdown",
      "metadata": {
        "id": "_DYbMTFWMj8J"
      },
      "source": [
        "Series object also provides us some convenient methods to do some quick calculation."
      ]
    },
    {
      "cell_type": "code",
      "metadata": {
        "colab": {
          "base_uri": "https://localhost:8080/"
        },
        "id": "1Mxc0HwvHW98",
        "outputId": "4388a0a7-7e68-456b-db1c-c0b71004a7b3"
      },
      "source": [
        "print(monthly_return.mean()) # Muestra la media de los resultados anteriores\n",
        "print(monthly_return.std()) # Muestra la desviación estándar de los resultados anteriores\n",
        "print(monthly_return.max()) # Muestra el máximo de los resultados anteriores"
      ],
      "execution_count": null,
      "outputs": [
        {
          "output_type": "stream",
          "name": "stdout",
          "text": [
            "0.04599382488058706\n",
            "0.1310883002937684\n",
            "0.2195425063061609\n"
          ]
        }
      ]
    },
    {
      "cell_type": "markdown",
      "metadata": {
        "id": "mn59J5dqMpqX"
      },
      "source": [
        "Another two methods frequently used on Series are .diff() and .pct_change(). The former calculates the difference between consecutive elements, and the latter calculates the percentage change."
      ]
    },
    {
      "cell_type": "code",
      "metadata": {
        "colab": {
          "base_uri": "https://localhost:8080/"
        },
        "id": "DupZTSqqHW99",
        "outputId": "9a1edac0-2db3-4a24-971e-76975a23695e"
      },
      "source": [
        "print(last_day.diff()) # Calcula la diferencia entre los precios en el último día del mes y los anteriores\n",
        "print(last_day.pct_change()) # Calcula el porcentaje de cambio entre los precios en el último día del mes y los anteriores"
      ],
      "execution_count": null,
      "outputs": [
        {
          "output_type": "stream",
          "name": "stdout",
          "text": [
            "Date\n",
            "2020-01-31          NaN\n",
            "2020-02-29    -8.758171\n",
            "2020-03-31    -4.715744\n",
            "2020-04-30     9.770264\n",
            "2020-05-31     6.182320\n",
            "2020-06-30    11.619171\n",
            "2020-07-31    14.936836\n",
            "2020-08-31    22.824425\n",
            "2020-09-30   -13.145447\n",
            "2020-10-31    -6.905579\n",
            "2020-11-30    10.328957\n",
            "2020-12-31    13.576210\n",
            "Freq: M, Name: Close, dtype: float64\n",
            "Date\n",
            "2020-01-31         NaN\n",
            "2020-02-29   -0.114701\n",
            "2020-03-31   -0.069762\n",
            "2020-04-30    0.155374\n",
            "2020-05-31    0.085094\n",
            "2020-06-30    0.147386\n",
            "2020-07-31    0.165132\n",
            "2020-08-31    0.216569\n",
            "2020-09-30   -0.102526\n",
            "2020-10-31   -0.060012\n",
            "2020-11-30    0.095493\n",
            "2020-12-31    0.114574\n",
            "Freq: M, Name: Close, dtype: float64\n"
          ]
        }
      ]
    },
    {
      "cell_type": "markdown",
      "metadata": {
        "id": "RaMAOFepM6Io"
      },
      "source": [
        "Notice that we induced a NaN value while calculating percentage changes i.e. returns.\n",
        "\n",
        "When dealing with NaN values, we usually either removing the data point or fill it with a specific value. Here we fill it with 0:"
      ]
    },
    {
      "cell_type": "code",
      "metadata": {
        "colab": {
          "base_uri": "https://localhost:8080/"
        },
        "id": "-xyLb3A3HW99",
        "outputId": "b4a2bbc1-0f3f-498a-82ca-2b6c304cead2"
      },
      "source": [
        "daily_return = last_day.pct_change() # Calcula el porcentaje de cambio entre los precios en el último día del mes y los anteriores\n",
        "print(daily_return.fillna(0)) # Cambia el NaN (Not a Number) por ceros"
      ],
      "execution_count": null,
      "outputs": [
        {
          "output_type": "stream",
          "name": "stdout",
          "text": [
            "Date\n",
            "2020-01-31    0.000000\n",
            "2020-02-29   -0.114701\n",
            "2020-03-31   -0.069762\n",
            "2020-04-30    0.155374\n",
            "2020-05-31    0.085094\n",
            "2020-06-30    0.147386\n",
            "2020-07-31    0.165132\n",
            "2020-08-31    0.216569\n",
            "2020-09-30   -0.102526\n",
            "2020-10-31   -0.060012\n",
            "2020-11-30    0.095493\n",
            "2020-12-31    0.114574\n",
            "Freq: M, Name: Close, dtype: float64\n"
          ]
        }
      ]
    },
    {
      "cell_type": "markdown",
      "metadata": {
        "id": "BYS10Om1NQVC"
      },
      "source": [
        "Alternatively, we can fill a NaN with the next fitted value. This is called 'backward fill', or 'bfill' in short:"
      ]
    },
    {
      "cell_type": "code",
      "metadata": {
        "colab": {
          "base_uri": "https://localhost:8080/"
        },
        "id": "J513kHeKHW9-",
        "outputId": "9a47582c-f5a3-4495-a094-ccb10180db0d"
      },
      "source": [
        "daily_return = last_day.pct_change() # Calcula el porcentaje de cambio entre los precios en el último día del mes y los anteriores\n",
        "print(daily_return.fillna(method = 'bfill')) # Selecciona el método de 'llenar al revés' para evitar los NaN"
      ],
      "execution_count": null,
      "outputs": [
        {
          "output_type": "stream",
          "name": "stdout",
          "text": [
            "Date\n",
            "2020-01-31   -0.114701\n",
            "2020-02-29   -0.114701\n",
            "2020-03-31   -0.069762\n",
            "2020-04-30    0.155374\n",
            "2020-05-31    0.085094\n",
            "2020-06-30    0.147386\n",
            "2020-07-31    0.165132\n",
            "2020-08-31    0.216569\n",
            "2020-09-30   -0.102526\n",
            "2020-10-31   -0.060012\n",
            "2020-11-30    0.095493\n",
            "2020-12-31    0.114574\n",
            "Freq: M, Name: Close, dtype: float64\n"
          ]
        }
      ]
    },
    {
      "cell_type": "markdown",
      "metadata": {
        "id": "bj8QUSgdNepf"
      },
      "source": [
        "As expected, since there is a 'backward fill' method, there must be a 'forward fill' method, or 'ffill' in short. However we can't use it here because the NaN is the first value.\n",
        "\n",
        "We can also simply remove NaN values by **_.dropna()_**"
      ]
    },
    {
      "cell_type": "code",
      "metadata": {
        "colab": {
          "base_uri": "https://localhost:8080/"
        },
        "id": "WG5ux1lqHW9-",
        "outputId": "84216438-d57d-4118-d643-22ecfb07d301"
      },
      "source": [
        "daily_return = last_day.pct_change()\n",
        "daily_return.dropna() # Elimina los NaN de los resultados"
      ],
      "execution_count": null,
      "outputs": [
        {
          "output_type": "execute_result",
          "data": {
            "text/plain": [
              "Date\n",
              "2020-02-29   -0.114701\n",
              "2020-03-31   -0.069762\n",
              "2020-04-30    0.155374\n",
              "2020-05-31    0.085094\n",
              "2020-06-30    0.147386\n",
              "2020-07-31    0.165132\n",
              "2020-08-31    0.216569\n",
              "2020-09-30   -0.102526\n",
              "2020-10-31   -0.060012\n",
              "2020-11-30    0.095493\n",
              "2020-12-31    0.114574\n",
              "Freq: M, Name: Close, dtype: float64"
            ]
          },
          "metadata": {},
          "execution_count": 23
        }
      ]
    },
    {
      "cell_type": "markdown",
      "metadata": {
        "id": "nQH2eBWkNjdC"
      },
      "source": [
        "# DataFrame\n",
        "The **DataFrame** is the most commonly used data structure in Pandas. It is essentially a table, just like an Excel spreadsheet.\n",
        "\n",
        "More precisely, a DataFrame is a collection of Series objects, each of which may contain different data types. A DataFrame can be created from various data types: dictionary, 2-D numpy.ndarray, a Series or another DataFrame.\n",
        "\n",
        "## Create DataFrames\n",
        "The most common method of creating a DataFrame is passing a dictionary:"
      ]
    },
    {
      "cell_type": "code",
      "metadata": {
        "colab": {
          "base_uri": "https://localhost:8080/"
        },
        "id": "vd5Wf1ohHW9-",
        "outputId": "0f25721c-e62a-49cb-8757-abc050ae90de"
      },
      "source": [
        "import pandas as pd\n",
        "\n",
        "dict = {'AAPL': [143.5, 144.09, 142.73, 144.18, 143.77],'GOOG':[898.7, 911.71, 906.69, 918.59, 926.99],\n",
        "        'IBM':[155.58, 153.67, 152.36, 152.94, 153.49]} # Crea un DataFrame en a través de un diccionario\n",
        "data_index = pd.date_range('2020-09-15',periods = 5, freq = 'D') # Selecciona los datos a partir de una fecha dada con una cierta frecuencia y límite de datos\n",
        "df = pd.DataFrame(dict, index = data_index)\n",
        "print(df)"
      ],
      "execution_count": null,
      "outputs": [
        {
          "output_type": "stream",
          "name": "stdout",
          "text": [
            "              AAPL    GOOG     IBM\n",
            "2020-09-15  143.50  898.70  155.58\n",
            "2020-09-16  144.09  911.71  153.67\n",
            "2020-09-17  142.73  906.69  152.36\n",
            "2020-09-18  144.18  918.59  152.94\n",
            "2020-09-19  143.77  926.99  153.49\n"
          ]
        }
      ]
    },
    {
      "cell_type": "markdown",
      "metadata": {
        "id": "0uYmLQTgOPnX"
      },
      "source": [
        "## Manipulating DataFrames\n",
        "We can fetch values in a DataFrame by columns and index. Each column in a DataFrame is essentially a Pandas Series. We can fetch a column by square brackets: **df['column_name']**\n",
        "\n",
        "If a column name contains no spaces, then we can also use df.column_name to fetch a column:"
      ]
    },
    {
      "cell_type": "code",
      "metadata": {
        "colab": {
          "base_uri": "https://localhost:8080/"
        },
        "id": "2pB2f7lBHW9_",
        "outputId": "bbc62998-b09e-47af-e6ff-c3794c8ae7d9"
      },
      "source": [
        "df = aapl_table\n",
        "print(df.Close.tail(10)) # Retorna las últimas n filas\n",
        "print(df['Volume'].tail(10)) # Busca los datos a de la columna indicada "
      ],
      "execution_count": null,
      "outputs": [
        {
          "output_type": "stream",
          "name": "stdout",
          "text": [
            "Date\n",
            "2021-09-16    148.789993\n",
            "2021-09-17    146.059998\n",
            "2021-09-20    142.940002\n",
            "2021-09-21    143.429993\n",
            "2021-09-22    145.850006\n",
            "2021-09-23    146.830002\n",
            "2021-09-24    146.919998\n",
            "2021-09-27    145.369995\n",
            "2021-09-28    141.910004\n",
            "2021-09-29    142.830002\n",
            "Name: Close, dtype: float64\n",
            "Date\n",
            "2021-09-16     68034100\n",
            "2021-09-17    129868800\n",
            "2021-09-20    123478900\n",
            "2021-09-21     75834000\n",
            "2021-09-22     76404300\n",
            "2021-09-23     64838200\n",
            "2021-09-24     53477900\n",
            "2021-09-27     74150700\n",
            "2021-09-28    108972300\n",
            "2021-09-29     74602000\n",
            "Name: Volume, dtype: int64\n"
          ]
        }
      ]
    },
    {
      "cell_type": "markdown",
      "metadata": {
        "id": "z0ugOel9O4-P"
      },
      "source": [
        "All the methods we applied to a Series index such as iloc[], loc[] and resampling methods, can also be applied to a DataFrame:"
      ]
    },
    {
      "cell_type": "code",
      "metadata": {
        "colab": {
          "base_uri": "https://localhost:8080/"
        },
        "id": "_8dfjkedHW9_",
        "outputId": "93130cda-1c7e-47f4-f580-e36e0c60192c"
      },
      "source": [
        "aapl_2021 = df['2021'] # Selecciona los datos disponibles del año indicado\n",
        "aapl_month = aapl_2021.resample('2W').agg(lambda x: x[-1]) # Muestra todos los datos de la columnas según el año y el intervalo de tiempo entre los datos\n",
        "print(aapl_month)"
      ],
      "execution_count": null,
      "outputs": [
        {
          "output_type": "stream",
          "name": "stdout",
          "text": [
            "                  Open        High  ...  Dividends  Stock Splits\n",
            "Date                                ...                         \n",
            "2021-01-10  131.810677  132.009754  ...      0.000           0.0\n",
            "2021-01-24  135.642671  139.195983  ...      0.000           0.0\n",
            "2021-02-07  136.911983  136.981751  ...      0.205           0.0\n",
            "2021-02-21  129.824641  130.293143  ...      0.000           0.0\n",
            "2021-03-07  120.594177  121.551114  ...      0.000           0.0\n",
            "2021-03-21  119.517621  121.042740  ...      0.000           0.0\n",
            "2021-04-04  123.265626  123.783964  ...      0.000           0.0\n",
            "2021-04-18  133.871700  134.240515  ...      0.000           0.0\n",
            "2021-05-02  131.359728  133.134050  ...      0.000           0.0\n",
            "2021-05-16  126.061129  127.698675  ...      0.000           0.0\n",
            "2021-05-30  125.382147  125.611806  ...      0.000           0.0\n",
            "2021-06-13  126.340704  127.249347  ...      0.000           0.0\n",
            "2021-06-27  133.260356  133.689705  ...      0.000           0.0\n",
            "2021-07-11  142.536444  145.432099  ...      0.000           0.0\n",
            "2021-07-25  147.329270  148.497518  ...      0.000           0.0\n",
            "2021-08-08  146.350006  147.110001  ...      0.220           0.0\n",
            "2021-08-22  147.440002  148.500000  ...      0.000           0.0\n",
            "2021-09-05  153.759995  154.630005  ...      0.000           0.0\n",
            "2021-09-19  148.820007  148.820007  ...      0.000           0.0\n",
            "2021-10-03  142.470001  144.449997  ...      0.000           0.0\n",
            "\n",
            "[20 rows x 7 columns]\n"
          ]
        }
      ]
    },
    {
      "cell_type": "markdown",
      "metadata": {
        "id": "CqrbrbFZPTJe"
      },
      "source": [
        "We may select certain columns of a DataFrame using their names:"
      ]
    },
    {
      "cell_type": "code",
      "metadata": {
        "colab": {
          "base_uri": "https://localhost:8080/"
        },
        "id": "7bQGeyCAHW9_",
        "outputId": "cc3cba93-2867-4342-ffe4-74113b9f9c65"
      },
      "source": [
        "aapl_bar = aapl_month[['Open', 'High', 'Low', 'Close']] # Selecciona las columnas a mostrar del DataFrame\n",
        "print(aapl_bar)"
      ],
      "execution_count": null,
      "outputs": [
        {
          "output_type": "stream",
          "name": "stdout",
          "text": [
            "                  Open        High         Low       Close\n",
            "Date                                                      \n",
            "2021-01-10  131.810677  132.009754  129.620969  131.432465\n",
            "2021-01-24  135.642671  139.195983  134.388569  138.419632\n",
            "2021-02-07  136.911983  136.981751  135.426729  136.323853\n",
            "2021-02-21  129.824641  130.293143  128.389231  129.455811\n",
            "2021-03-07  120.594177  121.551114  117.195048  121.032768\n",
            "2021-03-21  119.517621  121.042740  119.298321  119.607330\n",
            "2021-04-04  123.265626  123.783964  122.099351  122.607727\n",
            "2021-04-18  133.871700  134.240515  132.854949  133.732147\n",
            "2021-05-02  131.359728  133.134050  130.652001  131.040756\n",
            "2021-05-16  126.061129  127.698675  125.661726  127.259331\n",
            "2021-05-30  125.382147  125.611806  124.363676  124.423584\n",
            "2021-06-13  126.340704  127.249347  125.911347  127.159477\n",
            "2021-06-27  133.260356  133.689705  132.611319  132.910873\n",
            "2021-07-11  142.536444  145.432099  142.436587  144.892914\n",
            "2021-07-25  147.329270  148.497518  146.700207  148.337753\n",
            "2021-08-08  146.350006  147.110001  145.630005  146.139999\n",
            "2021-08-22  147.440002  148.500000  146.779999  148.190002\n",
            "2021-09-05  153.759995  154.630005  153.089996  154.300003\n",
            "2021-09-19  148.820007  148.820007  145.759995  146.059998\n",
            "2021-10-03  142.470001  144.449997  142.029999  142.830002\n"
          ]
        }
      ]
    },
    {
      "cell_type": "markdown",
      "metadata": {
        "id": "8CQaZCAQP68O"
      },
      "source": [
        "We can even specify both rows and columns using loc[]. The row indices and column names are separated by a comma:"
      ]
    },
    {
      "cell_type": "code",
      "metadata": {
        "colab": {
          "base_uri": "https://localhost:8080/"
        },
        "id": "YjWWiHVpHW-A",
        "outputId": "d35447ae-4f55-4696-fa42-2b4622d556f3"
      },
      "source": [
        "print(aapl_month.loc['2021-03':'2021-06',['Open', 'High', 'Low', 'Close']]) # Muestra la info de las columnas seleccionadas en el intervalo de fechas dado"
      ],
      "execution_count": null,
      "outputs": [
        {
          "output_type": "stream",
          "name": "stdout",
          "text": [
            "                  Open        High         Low       Close\n",
            "Date                                                      \n",
            "2021-03-07  120.594177  121.551114  117.195048  121.032768\n",
            "2021-03-21  119.517621  121.042740  119.298321  119.607330\n",
            "2021-04-04  123.265626  123.783964  122.099351  122.607727\n",
            "2021-04-18  133.871700  134.240515  132.854949  133.732147\n",
            "2021-05-02  131.359728  133.134050  130.652001  131.040756\n",
            "2021-05-16  126.061129  127.698675  125.661726  127.259331\n",
            "2021-05-30  125.382147  125.611806  124.363676  124.423584\n",
            "2021-06-13  126.340704  127.249347  125.911347  127.159477\n",
            "2021-06-27  133.260356  133.689705  132.611319  132.910873\n"
          ]
        }
      ]
    },
    {
      "cell_type": "markdown",
      "metadata": {
        "id": "Xcn_pHNLQBEH"
      },
      "source": [
        "The subset methods in DataFrame is quite useful. By writing logical statements in square brackets, we can make customized subsets:"
      ]
    },
    {
      "cell_type": "code",
      "metadata": {
        "colab": {
          "base_uri": "https://localhost:8080/"
        },
        "id": "RxKg4dObHW-A",
        "outputId": "97762022-72c8-49ee-ceda-1cca786fbf57"
      },
      "source": [
        "import numpy as np\n",
        "\n",
        "above = aapl_bar[aapl_bar.Close > np.mean(aapl_bar.Close)] # Muestra los datos que cumplan que el precio Close sea mayor a la media del precio Close del mes\n",
        "print(above)"
      ],
      "execution_count": null,
      "outputs": [
        {
          "output_type": "stream",
          "name": "stdout",
          "text": [
            "                  Open        High         Low       Close\n",
            "Date                                                      \n",
            "2021-01-24  135.642671  139.195983  134.388569  138.419632\n",
            "2021-02-07  136.911983  136.981751  135.426729  136.323853\n",
            "2021-07-11  142.536444  145.432099  142.436587  144.892914\n",
            "2021-07-25  147.329270  148.497518  146.700207  148.337753\n",
            "2021-08-08  146.350006  147.110001  145.630005  146.139999\n",
            "2021-08-22  147.440002  148.500000  146.779999  148.190002\n",
            "2021-09-05  153.759995  154.630005  153.089996  154.300003\n",
            "2021-09-19  148.820007  148.820007  145.759995  146.059998\n",
            "2021-10-03  142.470001  144.449997  142.029999  142.830002\n"
          ]
        }
      ]
    },
    {
      "cell_type": "markdown",
      "metadata": {
        "id": "wcm_UadkQLL5"
      },
      "source": [
        "## Data Validation\n",
        "As mentioned, all methods that apply to a Series can also be applied to a DataFrame. Here we add a new column to an existing DataFrame:"
      ]
    },
    {
      "cell_type": "code",
      "metadata": {
        "colab": {
          "base_uri": "https://localhost:8080/"
        },
        "id": "jZXFdOVFHW-A",
        "outputId": "5416321c-1977-4376-b1ca-a1855371c569"
      },
      "source": [
        "aapl_bar['rate_return'] = aapl_bar.Close.pct_change() # Añade una nueva columna al DataFrame a partir del cambio porcentual del precio Close de las acciones\n",
        "print(aapl_bar)"
      ],
      "execution_count": null,
      "outputs": [
        {
          "output_type": "stream",
          "name": "stdout",
          "text": [
            "                  Open        High         Low       Close  rate_return\n",
            "Date                                                                   \n",
            "2021-01-10  131.810677  132.009754  129.620969  131.432465          NaN\n",
            "2021-01-24  135.642671  139.195983  134.388569  138.419632     0.053162\n",
            "2021-02-07  136.911983  136.981751  135.426729  136.323853    -0.015141\n",
            "2021-02-21  129.824641  130.293143  128.389231  129.455811    -0.050380\n",
            "2021-03-07  120.594177  121.551114  117.195048  121.032768    -0.065065\n",
            "2021-03-21  119.517621  121.042740  119.298321  119.607330    -0.011777\n",
            "2021-04-04  123.265626  123.783964  122.099351  122.607727     0.025085\n",
            "2021-04-18  133.871700  134.240515  132.854949  133.732147     0.090732\n",
            "2021-05-02  131.359728  133.134050  130.652001  131.040756    -0.020125\n",
            "2021-05-16  126.061129  127.698675  125.661726  127.259331    -0.028857\n",
            "2021-05-30  125.382147  125.611806  124.363676  124.423584    -0.022283\n",
            "2021-06-13  126.340704  127.249347  125.911347  127.159477     0.021989\n",
            "2021-06-27  133.260356  133.689705  132.611319  132.910873     0.045230\n",
            "2021-07-11  142.536444  145.432099  142.436587  144.892914     0.090151\n",
            "2021-07-25  147.329270  148.497518  146.700207  148.337753     0.023775\n",
            "2021-08-08  146.350006  147.110001  145.630005  146.139999    -0.014816\n",
            "2021-08-22  147.440002  148.500000  146.779999  148.190002     0.014028\n",
            "2021-09-05  153.759995  154.630005  153.089996  154.300003     0.041231\n",
            "2021-09-19  148.820007  148.820007  145.759995  146.059998    -0.053402\n",
            "2021-10-03  142.470001  144.449997  142.029999  142.830002    -0.022114\n"
          ]
        },
        {
          "output_type": "stream",
          "name": "stderr",
          "text": [
            "/usr/local/lib/python3.7/dist-packages/ipykernel_launcher.py:1: SettingWithCopyWarning: \n",
            "A value is trying to be set on a copy of a slice from a DataFrame.\n",
            "Try using .loc[row_indexer,col_indexer] = value instead\n",
            "\n",
            "See the caveats in the documentation: https://pandas.pydata.org/pandas-docs/stable/user_guide/indexing.html#returning-a-view-versus-a-copy\n",
            "  \"\"\"Entry point for launching an IPython kernel.\n"
          ]
        }
      ]
    },
    {
      "cell_type": "markdown",
      "metadata": {
        "id": "_or6n5-LQUa-"
      },
      "source": [
        "Here the calculation introduced a NaN value. If the DataFrame is large, we would not be able to observe it. **isnull()** provides a convenient way to check abnormal values."
      ]
    },
    {
      "cell_type": "code",
      "metadata": {
        "colab": {
          "base_uri": "https://localhost:8080/"
        },
        "id": "V5wgmhIPHW-B",
        "outputId": "7863c2fe-4a06-4851-9398-e8f0f66335d3"
      },
      "source": [
        "missing = aapl_bar.isnull() # Muestra del forma booleana si el valor de una columna es NaN\n",
        "print(missing)\n",
        "print('---------------------------------------------')\n",
        "print(missing.describe())"
      ],
      "execution_count": null,
      "outputs": [
        {
          "output_type": "stream",
          "name": "stdout",
          "text": [
            "             Open   High    Low  Close  rate_return\n",
            "Date                                               \n",
            "2021-01-10  False  False  False  False         True\n",
            "2021-01-24  False  False  False  False        False\n",
            "2021-02-07  False  False  False  False        False\n",
            "2021-02-21  False  False  False  False        False\n",
            "2021-03-07  False  False  False  False        False\n",
            "2021-03-21  False  False  False  False        False\n",
            "2021-04-04  False  False  False  False        False\n",
            "2021-04-18  False  False  False  False        False\n",
            "2021-05-02  False  False  False  False        False\n",
            "2021-05-16  False  False  False  False        False\n",
            "2021-05-30  False  False  False  False        False\n",
            "2021-06-13  False  False  False  False        False\n",
            "2021-06-27  False  False  False  False        False\n",
            "2021-07-11  False  False  False  False        False\n",
            "2021-07-25  False  False  False  False        False\n",
            "2021-08-08  False  False  False  False        False\n",
            "2021-08-22  False  False  False  False        False\n",
            "2021-09-05  False  False  False  False        False\n",
            "2021-09-19  False  False  False  False        False\n",
            "2021-10-03  False  False  False  False        False\n",
            "---------------------------------------------\n",
            "         Open   High    Low  Close rate_return\n",
            "count      20     20     20     20          20\n",
            "unique      1      1      1      1           2\n",
            "top     False  False  False  False       False\n",
            "freq       20     20     20     20          19\n"
          ]
        }
      ]
    },
    {
      "cell_type": "markdown",
      "metadata": {
        "id": "d6KFV4i0QfLW"
      },
      "source": [
        "The row labelled \"unique\" indicates the number of unique values in each column. Since the \"rate_return\" column has 2 unique values, it has at least one missing value.\n",
        "\n",
        "We can deduce the number of missing values by comparing \"count\" with \"freq\". There are 12 counts and 11 False values, so there is one True value which corresponds to the missing value.\n",
        "\n",
        "We can also find the rows with missing values easily:"
      ]
    },
    {
      "cell_type": "code",
      "metadata": {
        "colab": {
          "base_uri": "https://localhost:8080/"
        },
        "id": "Eo0ZAhCsHW-B",
        "outputId": "780efed5-f4d5-40a5-a556-1c4eef0a58ee"
      },
      "source": [
        "print(missing[missing.rate_return == True]) # Muestra las filas que contienen NaN en la columna indicada"
      ],
      "execution_count": null,
      "outputs": [
        {
          "output_type": "stream",
          "name": "stdout",
          "text": [
            "             Open   High    Low  Close  rate_return\n",
            "Date                                               \n",
            "2021-01-10  False  False  False  False         True\n"
          ]
        }
      ]
    },
    {
      "cell_type": "markdown",
      "metadata": {
        "id": "qgggpD8OQkZX"
      },
      "source": [
        "Usually when dealing with missing data, we either delete the whole row or fill it with some value. As we introduced in the Series chapter, the same method **dropna()** and **fillna()** can be applied to a DataFrame."
      ]
    },
    {
      "cell_type": "code",
      "metadata": {
        "colab": {
          "base_uri": "https://localhost:8080/"
        },
        "id": "j8PaIokjHW-B",
        "outputId": "5873a6f5-0e18-40e4-b5ea-7d23afdcf989"
      },
      "source": [
        "drop = aapl_bar.dropna() # Elimina los valores NaN de los resultados\n",
        "print(drop)\n",
        "print('\\n--------------------------------------------------\\n')\n",
        "fill = aapl_bar.fillna(0) # Reemplaza los NaN con ceros\n",
        "print(fill)"
      ],
      "execution_count": null,
      "outputs": [
        {
          "output_type": "stream",
          "name": "stdout",
          "text": [
            "                  Open        High         Low       Close  rate_return\n",
            "Date                                                                   \n",
            "2021-01-24  135.642671  139.195983  134.388569  138.419632     0.053162\n",
            "2021-02-07  136.911983  136.981751  135.426729  136.323853    -0.015141\n",
            "2021-02-21  129.824641  130.293143  128.389231  129.455811    -0.050380\n",
            "2021-03-07  120.594177  121.551114  117.195048  121.032768    -0.065065\n",
            "2021-03-21  119.517621  121.042740  119.298321  119.607330    -0.011777\n",
            "2021-04-04  123.265626  123.783964  122.099351  122.607727     0.025085\n",
            "2021-04-18  133.871700  134.240515  132.854949  133.732147     0.090732\n",
            "2021-05-02  131.359728  133.134050  130.652001  131.040756    -0.020125\n",
            "2021-05-16  126.061129  127.698675  125.661726  127.259331    -0.028857\n",
            "2021-05-30  125.382147  125.611806  124.363676  124.423584    -0.022283\n",
            "2021-06-13  126.340704  127.249347  125.911347  127.159477     0.021989\n",
            "2021-06-27  133.260356  133.689705  132.611319  132.910873     0.045230\n",
            "2021-07-11  142.536444  145.432099  142.436587  144.892914     0.090151\n",
            "2021-07-25  147.329270  148.497518  146.700207  148.337753     0.023775\n",
            "2021-08-08  146.350006  147.110001  145.630005  146.139999    -0.014816\n",
            "2021-08-22  147.440002  148.500000  146.779999  148.190002     0.014028\n",
            "2021-09-05  153.759995  154.630005  153.089996  154.300003     0.041231\n",
            "2021-09-19  148.820007  148.820007  145.759995  146.059998    -0.053402\n",
            "2021-10-03  142.470001  144.449997  142.029999  142.830002    -0.022114\n",
            "\n",
            "--------------------------------------------------\n",
            "\n",
            "                  Open        High         Low       Close  rate_return\n",
            "Date                                                                   \n",
            "2021-01-10  131.810677  132.009754  129.620969  131.432465     0.000000\n",
            "2021-01-24  135.642671  139.195983  134.388569  138.419632     0.053162\n",
            "2021-02-07  136.911983  136.981751  135.426729  136.323853    -0.015141\n",
            "2021-02-21  129.824641  130.293143  128.389231  129.455811    -0.050380\n",
            "2021-03-07  120.594177  121.551114  117.195048  121.032768    -0.065065\n",
            "2021-03-21  119.517621  121.042740  119.298321  119.607330    -0.011777\n",
            "2021-04-04  123.265626  123.783964  122.099351  122.607727     0.025085\n",
            "2021-04-18  133.871700  134.240515  132.854949  133.732147     0.090732\n",
            "2021-05-02  131.359728  133.134050  130.652001  131.040756    -0.020125\n",
            "2021-05-16  126.061129  127.698675  125.661726  127.259331    -0.028857\n",
            "2021-05-30  125.382147  125.611806  124.363676  124.423584    -0.022283\n",
            "2021-06-13  126.340704  127.249347  125.911347  127.159477     0.021989\n",
            "2021-06-27  133.260356  133.689705  132.611319  132.910873     0.045230\n",
            "2021-07-11  142.536444  145.432099  142.436587  144.892914     0.090151\n",
            "2021-07-25  147.329270  148.497518  146.700207  148.337753     0.023775\n",
            "2021-08-08  146.350006  147.110001  145.630005  146.139999    -0.014816\n",
            "2021-08-22  147.440002  148.500000  146.779999  148.190002     0.014028\n",
            "2021-09-05  153.759995  154.630005  153.089996  154.300003     0.041231\n",
            "2021-09-19  148.820007  148.820007  145.759995  146.059998    -0.053402\n",
            "2021-10-03  142.470001  144.449997  142.029999  142.830002    -0.022114\n"
          ]
        }
      ]
    },
    {
      "cell_type": "markdown",
      "metadata": {
        "id": "0tvoFlKWQxYG"
      },
      "source": [
        "## DataFrame Concat\n",
        "We have seen how to extract a Series from a dataFrame. Now we need to consider how to merge a Series or a DataFrame into another one.\n",
        "\n",
        "In Pandas, the function **concat()** allows us to merge multiple Series into a DataFrame:"
      ]
    },
    {
      "cell_type": "code",
      "metadata": {
        "colab": {
          "base_uri": "https://localhost:8080/"
        },
        "id": "uQrmLIWKHW-C",
        "outputId": "846d3c8b-dacb-48bd-dad0-2030d705a9ae"
      },
      "source": [
        "s1 = pd.Series([143.5, 144.09, 142.73, 144.18, 143.77], name = 'AAPL')\n",
        "s2 = pd.Series([898.7, 911.71, 906.69, 918.59, 926.99], name = 'GOOG')\n",
        "data_frame = pd.concat([s1,s2], axis = 1) # Concatena las series por columnas, si axis=0 se concatenan por filas\n",
        "print(data_frame)"
      ],
      "execution_count": null,
      "outputs": [
        {
          "output_type": "stream",
          "name": "stdout",
          "text": [
            "     AAPL    GOOG\n",
            "0  143.50  898.70\n",
            "1  144.09  911.71\n",
            "2  142.73  906.69\n",
            "3  144.18  918.59\n",
            "4  143.77  926.99\n"
          ]
        }
      ]
    },
    {
      "cell_type": "markdown",
      "metadata": {
        "id": "3ojbNYJLR2vv"
      },
      "source": [
        "The \"axis = 1\" parameter will join two DataFrames by columns:"
      ]
    },
    {
      "cell_type": "code",
      "metadata": {
        "colab": {
          "base_uri": "https://localhost:8080/"
        },
        "id": "DJsaLd-cRoIm",
        "outputId": "c061476a-77d9-4fed-a3d1-22d6ada20c00"
      },
      "source": [
        "log_price = np.log(aapl_bar.Close) # Calcula el logaritmo del precio Close de las acciones\n",
        "log_price.name = 'log_price'\n",
        "print(log_price)\n",
        "print('\\n---------------------- separate line--------------------\\n')\n",
        "concat = pd.concat([aapl_bar, log_price], axis = 1) # Concatena por columnas el DataFrame existente con el del logaritmo de los precios Close de las acciones\n",
        "print(concat)"
      ],
      "execution_count": null,
      "outputs": [
        {
          "output_type": "stream",
          "name": "stdout",
          "text": [
            "Date\n",
            "2021-01-10    4.878493\n",
            "2021-01-24    4.930290\n",
            "2021-02-07    4.915033\n",
            "2021-02-21    4.863340\n",
            "2021-03-07    4.796061\n",
            "2021-03-21    4.784214\n",
            "2021-04-04    4.808990\n",
            "2021-04-18    4.895839\n",
            "2021-05-02    4.875508\n",
            "2021-05-16    4.846227\n",
            "2021-05-30    4.823692\n",
            "2021-06-13    4.845442\n",
            "2021-06-27    4.889679\n",
            "2021-07-11    4.975995\n",
            "2021-07-25    4.999492\n",
            "2021-08-08    4.984565\n",
            "2021-08-22    4.998495\n",
            "2021-09-05    5.038899\n",
            "2021-09-19    4.984017\n",
            "2021-10-03    4.961655\n",
            "Freq: 2W-SUN, Name: log_price, dtype: float64\n",
            "\n",
            "---------------------- separate line--------------------\n",
            "\n",
            "                  Open        High  ...  rate_return  log_price\n",
            "Date                                ...                        \n",
            "2021-01-10  131.810677  132.009754  ...          NaN   4.878493\n",
            "2021-01-24  135.642671  139.195983  ...     0.053162   4.930290\n",
            "2021-02-07  136.911983  136.981751  ...    -0.015141   4.915033\n",
            "2021-02-21  129.824641  130.293143  ...    -0.050380   4.863340\n",
            "2021-03-07  120.594177  121.551114  ...    -0.065065   4.796061\n",
            "2021-03-21  119.517621  121.042740  ...    -0.011777   4.784214\n",
            "2021-04-04  123.265626  123.783964  ...     0.025085   4.808990\n",
            "2021-04-18  133.871700  134.240515  ...     0.090732   4.895839\n",
            "2021-05-02  131.359728  133.134050  ...    -0.020125   4.875508\n",
            "2021-05-16  126.061129  127.698675  ...    -0.028857   4.846227\n",
            "2021-05-30  125.382147  125.611806  ...    -0.022283   4.823692\n",
            "2021-06-13  126.340704  127.249347  ...     0.021989   4.845442\n",
            "2021-06-27  133.260356  133.689705  ...     0.045230   4.889679\n",
            "2021-07-11  142.536444  145.432099  ...     0.090151   4.975995\n",
            "2021-07-25  147.329270  148.497518  ...     0.023775   4.999492\n",
            "2021-08-08  146.350006  147.110001  ...    -0.014816   4.984565\n",
            "2021-08-22  147.440002  148.500000  ...     0.014028   4.998495\n",
            "2021-09-05  153.759995  154.630005  ...     0.041231   5.038899\n",
            "2021-09-19  148.820007  148.820007  ...    -0.053402   4.984017\n",
            "2021-10-03  142.470001  144.449997  ...    -0.022114   4.961655\n",
            "\n",
            "[20 rows x 6 columns]\n"
          ]
        }
      ]
    },
    {
      "cell_type": "markdown",
      "metadata": {
        "id": "mIZz-FUyR_62"
      },
      "source": [
        "We can also join two DataFrames by rows. Consider these two DataFrames:"
      ]
    },
    {
      "cell_type": "code",
      "metadata": {
        "colab": {
          "base_uri": "https://localhost:8080/"
        },
        "id": "W7uXZptLHW-C",
        "outputId": "b4cffaf4-6a47-4ec7-9351-2038070a518d"
      },
      "source": [
        "df_volume = aapl_table.loc['2021-04':'2021-09',['Volume', 'Stock Splits']].resample('M').agg(lambda x: x[-1]) # Selecciona las columnas a \n",
        "                                                                                                              # mostrar durante un intervalor de tiempo\n",
        "print(df_volume)\n",
        "print('\\n---------------------- separate line--------------------\\n')\n",
        "df_2017 = aapl_table.loc['2021-04':'2021-09',['Open', 'High', 'Low', 'Close']].resample('M').agg(lambda x: x[-1]) # Selecciona las columnas a \n",
        "                                                                                                                  # mostrar durante un intervalor de tiempo\n",
        "print(df_2017)"
      ],
      "execution_count": null,
      "outputs": [
        {
          "output_type": "stream",
          "name": "stdout",
          "text": [
            "               Volume  Stock Splits\n",
            "Date                               \n",
            "2021-04-30  109839500           0.0\n",
            "2021-05-31   71311100           0.0\n",
            "2021-06-30   63261400           0.0\n",
            "2021-07-31   70382000           0.0\n",
            "2021-08-31   86453100           0.0\n",
            "2021-09-30   74602000           0.0\n",
            "\n",
            "---------------------- separate line--------------------\n",
            "\n",
            "                  Open        High         Low       Close\n",
            "Date                                                      \n",
            "2021-04-30  131.359728  133.134050  130.652001  131.040756\n",
            "2021-05-31  125.382147  125.611806  124.363676  124.423584\n",
            "2021-06-30  135.966285  137.204435  135.666731  136.755112\n",
            "2021-07-31  144.164003  146.111083  143.894403  145.641785\n",
            "2021-08-31  152.660004  152.800003  151.289993  151.830002\n",
            "2021-09-30  142.470001  144.449997  142.029999  142.830002\n"
          ]
        }
      ]
    },
    {
      "cell_type": "markdown",
      "metadata": {
        "id": "iZk_C9aSSLeP"
      },
      "source": [
        "Now we merge the DataFrames with our DataFrame 'aapl_bar'"
      ]
    },
    {
      "cell_type": "code",
      "metadata": {
        "colab": {
          "base_uri": "https://localhost:8080/"
        },
        "id": "aFqmjokOHW-C",
        "outputId": "9078fb94-81d5-4049-f95a-381e96a71e8a"
      },
      "source": [
        "concat = pd.concat([aapl_bar, df_volume], axis = 1) # Concatena los dos DataFrames existentes\n",
        "print(concat)"
      ],
      "execution_count": null,
      "outputs": [
        {
          "output_type": "stream",
          "name": "stdout",
          "text": [
            "                  Open        High  ...       Volume  Stock Splits\n",
            "Date                                ...                           \n",
            "2021-01-10  131.810677  132.009754  ...          NaN           NaN\n",
            "2021-01-24  135.642671  139.195983  ...          NaN           NaN\n",
            "2021-02-07  136.911983  136.981751  ...          NaN           NaN\n",
            "2021-02-21  129.824641  130.293143  ...          NaN           NaN\n",
            "2021-03-07  120.594177  121.551114  ...          NaN           NaN\n",
            "2021-03-21  119.517621  121.042740  ...          NaN           NaN\n",
            "2021-04-04  123.265626  123.783964  ...          NaN           NaN\n",
            "2021-04-18  133.871700  134.240515  ...          NaN           NaN\n",
            "2021-04-30         NaN         NaN  ...  109839500.0           0.0\n",
            "2021-05-02  131.359728  133.134050  ...          NaN           NaN\n",
            "2021-05-16  126.061129  127.698675  ...          NaN           NaN\n",
            "2021-05-30  125.382147  125.611806  ...          NaN           NaN\n",
            "2021-05-31         NaN         NaN  ...   71311100.0           0.0\n",
            "2021-06-13  126.340704  127.249347  ...          NaN           NaN\n",
            "2021-06-27  133.260356  133.689705  ...          NaN           NaN\n",
            "2021-06-30         NaN         NaN  ...   63261400.0           0.0\n",
            "2021-07-11  142.536444  145.432099  ...          NaN           NaN\n",
            "2021-07-25  147.329270  148.497518  ...          NaN           NaN\n",
            "2021-07-31         NaN         NaN  ...   70382000.0           0.0\n",
            "2021-08-08  146.350006  147.110001  ...          NaN           NaN\n",
            "2021-08-22  147.440002  148.500000  ...          NaN           NaN\n",
            "2021-08-31         NaN         NaN  ...   86453100.0           0.0\n",
            "2021-09-05  153.759995  154.630005  ...          NaN           NaN\n",
            "2021-09-19  148.820007  148.820007  ...          NaN           NaN\n",
            "2021-09-30         NaN         NaN  ...   74602000.0           0.0\n",
            "2021-10-03  142.470001  144.449997  ...          NaN           NaN\n",
            "\n",
            "[26 rows x 7 columns]\n"
          ]
        }
      ]
    },
    {
      "cell_type": "markdown",
      "metadata": {
        "id": "7yI3tgB4SR4O"
      },
      "source": [
        "By default the DataFrame are joined with all of the data. This default options results in zero information loss. We can also merge them by intersection, this is called 'inner join"
      ]
    },
    {
      "cell_type": "code",
      "metadata": {
        "colab": {
          "base_uri": "https://localhost:8080/"
        },
        "id": "31QGLyijHW-C",
        "outputId": "5da6383a-4f02-4d76-8bdf-a3845a8ee40b"
      },
      "source": [
        "concat = pd.concat([aapl_bar,df_volume],axis = 1, join = 'inner') # Concatena los DataFrames mediante una intersección\n",
        "print(concat)"
      ],
      "execution_count": null,
      "outputs": [
        {
          "output_type": "stream",
          "name": "stdout",
          "text": [
            "                 Open       High  ...     Volume  Stock Splits\n",
            "Date                              ...                         \n",
            "2016-10-31  26.646396  26.782384  ...  105677600             0\n",
            "2016-11-30  26.300094  26.441492  ...  144649200             0\n",
            "2016-12-31  27.490193  27.619807  ...  122345200             0\n",
            "\n",
            "[3 rows x 7 columns]\n"
          ]
        }
      ]
    },
    {
      "cell_type": "markdown",
      "metadata": {
        "id": "oudcWMm5Sd0u"
      },
      "source": [
        "Only the intersection part was left if use 'inner join' method. Now let's try to append a DataFrame to another one:"
      ]
    },
    {
      "cell_type": "code",
      "metadata": {
        "colab": {
          "base_uri": "https://localhost:8080/"
        },
        "id": "lgw0qaOsHW-D",
        "outputId": "d4579bba-27fe-4de7-e02d-2ea3ebc69090"
      },
      "source": [
        "append = aapl_bar.append(df_2017) # Concatena los DataFrames por filas\n",
        "print(append)"
      ],
      "execution_count": null,
      "outputs": [
        {
          "output_type": "stream",
          "name": "stdout",
          "text": [
            "                  Open        High  ...  rate_return      Change\n",
            "Date                                ...                         \n",
            "2021-01-10  131.810677  132.009754  ...          NaN         NaN\n",
            "2021-01-24  135.642671  139.195983  ...     0.053162         NaN\n",
            "2021-02-07  136.911983  136.981751  ...    -0.015141         NaN\n",
            "2021-02-21  129.824641  130.293143  ...    -0.050380         NaN\n",
            "2021-03-07  120.594177  121.551114  ...    -0.065065         NaN\n",
            "2021-03-21  119.517621  121.042740  ...    -0.011777         NaN\n",
            "2021-04-04  123.265626  123.783964  ...     0.025085         NaN\n",
            "2021-04-18  133.871700  134.240515  ...     0.090732         NaN\n",
            "2021-05-02  131.359728  133.134050  ...    -0.020125         NaN\n",
            "2021-05-16  126.061129  127.698675  ...    -0.028857         NaN\n",
            "2021-05-30  125.382147  125.611806  ...    -0.022283         NaN\n",
            "2021-06-13  126.340704  127.249347  ...     0.021989         NaN\n",
            "2021-06-27  133.260356  133.689705  ...     0.045230         NaN\n",
            "2021-07-11  142.536444  145.432099  ...     0.090151         NaN\n",
            "2021-07-25  147.329270  148.497518  ...     0.023775         NaN\n",
            "2021-08-08  146.350006  147.110001  ...    -0.014816         NaN\n",
            "2021-08-22  147.440002  148.500000  ...     0.014028         NaN\n",
            "2021-09-05  153.759995  154.630005  ...     0.041231         NaN\n",
            "2021-09-19  148.820007  148.820007  ...    -0.053402         NaN\n",
            "2021-10-03  142.470001  144.449997  ...    -0.022114         NaN\n",
            "2021-04-30         NaN  133.134050  ...          NaN  131.359728\n",
            "2021-05-31         NaN  125.611806  ...          NaN  125.382147\n",
            "2021-06-30         NaN  137.204435  ...          NaN  135.966285\n",
            "2021-07-31         NaN  146.111083  ...          NaN  144.164003\n",
            "2021-08-31         NaN  152.800003  ...          NaN  152.660004\n",
            "2021-09-30         NaN  144.449997  ...          NaN  142.470001\n",
            "\n",
            "[26 rows x 6 columns]\n"
          ]
        }
      ]
    },
    {
      "cell_type": "markdown",
      "metadata": {
        "id": "zXT6cMquSq_P"
      },
      "source": [
        "'Append' is essentially to concat two DataFrames by axis = 0, thus here is an alternative way to append:"
      ]
    },
    {
      "cell_type": "code",
      "metadata": {
        "colab": {
          "base_uri": "https://localhost:8080/"
        },
        "id": "2EuSaFO9HW-D",
        "outputId": "3bd6dad7-022a-4c62-d049-24c219feab39"
      },
      "source": [
        "concat = pd.concat([aapl_bar, df_2017], axis = 0) # Otra forma para concatenar DataFrames por filas, como alternativa a append()\n",
        "print(concat)"
      ],
      "execution_count": null,
      "outputs": [
        {
          "output_type": "stream",
          "name": "stdout",
          "text": [
            "                 Open       High        Low      Close  rate_return\n",
            "Date                                                               \n",
            "2016-01-31  21.852388  22.440250  21.750952  22.440250          NaN\n",
            "2016-02-29  22.450761  22.768308  22.402086  22.411358    -0.001288\n",
            "2016-03-31  25.431520  25.473242  25.236819  25.262316     0.127210\n",
            "2016-04-30  21.785529  21.954734  21.442488  21.727583    -0.139921\n",
            "2016-05-31  23.226409  23.412967  23.044516  23.287041     0.071773\n",
            "2016-06-30  22.023112  22.333262  21.990464  22.293619    -0.042660\n",
            "2016-07-31  24.296780  24.380731  24.177849  24.301443     0.090063\n",
            "2016-08-31  24.773054  24.986412  24.768364  24.876215     0.023652\n",
            "2016-09-30  26.367388  26.580747  26.212645  26.505720     0.065505\n",
            "2016-10-31  26.646396  26.782384  26.540888  26.620605     0.004334\n",
            "2016-11-30  26.300094  26.441492  25.986660  26.045576    -0.021601\n",
            "2016-12-31  27.490193  27.619807  27.202683  27.294592     0.047955\n",
            "2016-10-31  26.646396  26.782384  26.540888  26.620605          NaN\n",
            "2016-11-30  26.300094  26.441492  25.986660  26.045576          NaN\n",
            "2016-12-31  27.490193  27.619807  27.202683  27.294592          NaN\n",
            "2017-01-31  28.550684  28.607243  28.425783  28.597816          NaN\n",
            "2017-02-28  32.444862  32.530069  32.354920  32.423561          NaN\n",
            "2017-03-31  34.016455  34.146633  33.848407  34.002254          NaN\n",
            "2017-04-30  34.104032  34.153737  33.909951  33.999889          NaN\n"
          ]
        }
      ]
    },
    {
      "cell_type": "markdown",
      "metadata": {
        "id": "-YXL7V9ASst9"
      },
      "source": [
        "Please note that if the two DataFrame have some columns with the same column names, these columns are considered to be the same and will be merged. It's very important to have the right column names. If we change a column names here:"
      ]
    },
    {
      "cell_type": "code",
      "metadata": {
        "colab": {
          "base_uri": "https://localhost:8080/"
        },
        "id": "aT1eoa8mHW-D",
        "outputId": "e18075a2-ee26-4844-840a-dd82db9b71f0"
      },
      "source": [
        "df_2017.columns = ['Change', 'High','Low','Close'] # Selecciona las columnas indicadas del DataFrame\n",
        "concat = pd.concat([aapl_bar, df_2017], axis = 0) # Concatena los DataFrames por filas\n",
        "concat = concat.fillna(0) # Reemplaza los NaN por ceros\n",
        "print(concat)"
      ],
      "execution_count": null,
      "outputs": [
        {
          "output_type": "stream",
          "name": "stdout",
          "text": [
            "                  Open        High  ...  rate_return      Change\n",
            "Date                                ...                         \n",
            "2021-01-10  131.810677  132.009754  ...     0.000000    0.000000\n",
            "2021-01-24  135.642671  139.195983  ...     0.053162    0.000000\n",
            "2021-02-07  136.911983  136.981751  ...    -0.015141    0.000000\n",
            "2021-02-21  129.824641  130.293143  ...    -0.050380    0.000000\n",
            "2021-03-07  120.594177  121.551114  ...    -0.065065    0.000000\n",
            "2021-03-21  119.517621  121.042740  ...    -0.011777    0.000000\n",
            "2021-04-04  123.265626  123.783964  ...     0.025085    0.000000\n",
            "2021-04-18  133.871700  134.240515  ...     0.090732    0.000000\n",
            "2021-05-02  131.359728  133.134050  ...    -0.020125    0.000000\n",
            "2021-05-16  126.061129  127.698675  ...    -0.028857    0.000000\n",
            "2021-05-30  125.382147  125.611806  ...    -0.022283    0.000000\n",
            "2021-06-13  126.340704  127.249347  ...     0.021989    0.000000\n",
            "2021-06-27  133.260356  133.689705  ...     0.045230    0.000000\n",
            "2021-07-11  142.536444  145.432099  ...     0.090151    0.000000\n",
            "2021-07-25  147.329270  148.497518  ...     0.023775    0.000000\n",
            "2021-08-08  146.350006  147.110001  ...    -0.014816    0.000000\n",
            "2021-08-22  147.440002  148.500000  ...     0.014028    0.000000\n",
            "2021-09-05  153.759995  154.630005  ...     0.041231    0.000000\n",
            "2021-09-19  148.820007  148.820007  ...    -0.053402    0.000000\n",
            "2021-10-03  142.470001  144.449997  ...    -0.022114    0.000000\n",
            "2021-04-30    0.000000  133.134050  ...     0.000000  131.359728\n",
            "2021-05-31    0.000000  125.611806  ...     0.000000  125.382147\n",
            "2021-06-30    0.000000  137.204435  ...     0.000000  135.966285\n",
            "2021-07-31    0.000000  146.111083  ...     0.000000  144.164003\n",
            "2021-08-31    0.000000  152.800003  ...     0.000000  152.660004\n",
            "2021-09-30    0.000000  144.449997  ...     0.000000  142.470001\n",
            "\n",
            "[26 rows x 6 columns]\n"
          ]
        }
      ]
    },
    {
      "cell_type": "markdown",
      "metadata": {
        "id": "shbpOFyyS6uV"
      },
      "source": [
        "Since the column name of 'Open' has been changed, the new DataFrame has an new column named 'Change'.\n",
        "\n",
        "# Summary\n",
        "\n",
        "Hereby we introduced the most import part of python: resampling and DataFrame manipulation. We only introduced the most commonly used method in Financial data analysis. There are also many methods used in data mining, which are also beneficial. You can always check the [Pandas](https://pandas.pydata.org/pandas-docs/stable/index.html) official documentations for help."
      ]
    }
  ]
}